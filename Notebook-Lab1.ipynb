{
 "cells": [
  {
   "cell_type": "markdown",
   "id": "3b98406c-0f47-46bd-aa9c-2138e27e909a",
   "metadata": {},
   "source": [
    "## LangChain with Simple Chain Pattern\n",
    "This example is setting up a LangChain example that connects to a custom OpenAI-compatible large language model (LLM) endpoint using credentials from the environment, then prompts it to suggest a provide a 5 lines of overview of \"VMware Tanzu Hub\""
   ]
  },
  {
   "cell_type": "code",
   "execution_count": null,
   "id": "310c2101-053f-4a53-951b-c87f694f6519",
   "metadata": {},
   "outputs": [],
   "source": [
    "# set the working directory for the project\n",
    "%cd /home/vcap/app/cf-jupyterlab-samples"
   ]
  },
  {
   "cell_type": "markdown",
   "id": "cf27b902-b872-4018-ab5c-1daac03aaae3",
   "metadata": {},
   "source": [
    "### Step 1: Import the dependencies"
   ]
  },
  {
   "cell_type": "code",
   "execution_count": null,
   "id": "80bc1810-b5d7-4970-8b76-86c0e5e9ea7f",
   "metadata": {},
   "outputs": [],
   "source": [
    "import sys, os\n",
    "import requests\n",
    "import json\n",
    "import httpx\n",
    "import warnings\n",
    "from langchain.prompts import ChatPromptTemplate\n",
    "from langchain.chains import LLMChain\n",
    "from langchain_openai import ChatOpenAI\n",
    "from cfenv import AppEnv\n",
    "from tanzu_utils import CFGenAIService\n",
    "warnings.filterwarnings('ignore')"
   ]
  }
 ],
 "metadata": {
  "kernelspec": {
   "display_name": "Python 3 (ipykernel)",
   "language": "python",
   "name": "python3"
  },
  "language_info": {
   "codemirror_mode": {
    "name": "ipython",
    "version": 3
   },
   "file_extension": ".py",
   "mimetype": "text/x-python",
   "name": "python",
   "nbconvert_exporter": "python",
   "pygments_lexer": "ipython3",
   "version": "3.13.6"
  }
 },
 "nbformat": 4,
 "nbformat_minor": 5
}
