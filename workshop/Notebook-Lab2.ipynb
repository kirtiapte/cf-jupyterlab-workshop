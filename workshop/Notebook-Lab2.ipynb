{
 "cells": [
  {
   "cell_type": "markdown",
   "id": "5a6bfbbd-aebd-4db4-a171-a452abc8d593",
   "metadata": {},
   "source": [
    "## LangChain Router Pattern\n",
    "Router pattern is a way to direct a user’s query to the most appropriate sub-chain or tool based on the input, instead of sending all queries to the same model or prompt.\n"
   ]
  },
  {
   "cell_type": "markdown",
   "id": "0b4b5e2a-a6b9-47ff-9db0-c9a2c79feacd",
   "metadata": {},
   "source": [
    "## Step 1 : Set the project path"
   ]
  },
  {
   "cell_type": "code",
   "execution_count": 20,
   "id": "c04c0a87-2f13-452b-9f7f-d3afe7994b46",
   "metadata": {},
   "outputs": [
    {
     "name": "stdout",
     "output_type": "stream",
     "text": [
      "/home/vcap/app/cf-jupyterlab-samples\n"
     ]
    }
   ],
   "source": [
    "# set the working directory for the project\n",
    "%cd /home/vcap/app/cf-jupyterlab-samples"
   ]
  },
  {
   "cell_type": "markdown",
   "id": "005539b1-b1af-44d8-9dac-42c139368799",
   "metadata": {},
   "source": [
    "## Step 2: Import the dependencies"
   ]
  },
  {
   "cell_type": "code",
   "execution_count": 21,
   "id": "3a554c01-6817-4c15-8169-032a93470898",
   "metadata": {},
   "outputs": [],
   "source": [
    "import sys, os\n",
    "import requests\n",
    "import json\n",
    "import warnings\n",
    "from openai import OpenAI\n",
    "import httpx\n",
    "from langchain.prompts import ChatPromptTemplate\n",
    "from langchain.chains import LLMChain\n",
    "from langchain_openai import ChatOpenAI\n",
    "from langchain.agents import tool\n",
    "from langchain.agents import initialize_agent, AgentType, load_tools\n",
    "from langchain_core.tools import Tool\n",
    "from langchain.tools import tool\n",
    "from langchain.chains.router import MultiPromptChain\n",
    "from langchain.chains.router.llm_router import LLMRouterChain,RouterOutputParser\n",
    "from langchain.prompts import PromptTemplate\n",
    "from cfenv import AppEnv\n",
    "from tanzu_utils import CFGenAIService\n",
    "warnings.filterwarnings('ignore')"
   ]
  },
  {
   "cell_type": "markdown",
   "id": "b4954053-3646-4f45-90c7-a56d5d48f271",
   "metadata": {},
   "source": [
    "## Step 3: Load the credentials for the model"
   ]
  },
  {
   "cell_type": "code",
   "execution_count": 19,
   "id": "34980974-6ae3-454c-80eb-aae63f4c4838",
   "metadata": {},
   "outputs": [
    {
     "name": "stdout",
     "output_type": "stream",
     "text": [
      "- openai/gpt-oss-120b (capabilities: CHAT, TOOLS)\n"
     ]
    }
   ],
   "source": [
    "# load your service details replace name with your Gen AI service.  Gen AI service is bound to the app\n",
    "genai = CFGenAIService(\"tanzu-gpt-oss-120b\")\n",
    "\n",
    "# List available models\n",
    "models = genai.list_models()\n",
    "for m in models:\n",
    "    print(f\"- {m['name']} (capabilities: {', '.join(m['capabilities'])})\")\n",
    "\n",
    "# construct chat_credentials\n",
    "chat_credentials = {\n",
    "    \"api_base\": genai.api_base + \"/openai/v1\",\n",
    "    \"api_key\": genai.api_key,\n",
    "    \"model_name\": models[0][\"name\"]\n",
    "}"
   ]
  },
  {
   "cell_type": "markdown",
   "id": "6a9fef70-b920-4af3-a7c4-31669e505aa9",
   "metadata": {},
   "source": [
    " ## Step 4: initialize langchain chat model with credentials"
   ]
  },
  {
   "cell_type": "code",
   "execution_count": 10,
   "id": "8c45a9c0-b05b-4f8d-9c2f-939627289ee6",
   "metadata": {},
   "outputs": [],
   "source": [
    "# 2. HTTP client (optional but recommended for custom config)\n",
    "httpx_client = httpx.Client(verify=False)  # verify=False if your endpoint needs --insecure\n",
    "\n",
    "# 3. Initialize the LLM\n",
    "llm = ChatOpenAI(\n",
    "    temperature=0.9,\n",
    "    model=chat_credentials[\"model_name\"],   # model name from CF service\n",
    "    base_url=chat_credentials[\"api_base\"],  # OpenAI-compatible endpoint\n",
    "    api_key=chat_credentials[\"api_key\"],    # Bearer token\n",
    "    http_client=httpx_client\n",
    ")"
   ]
  },
  {
   "cell_type": "markdown",
   "id": "bc23b99a-3036-4af4-920b-a7688b710e5a",
   "metadata": {},
   "source": [
    "## Step 5: Define prompt templates"
   ]
  },
  {
   "cell_type": "code",
   "execution_count": 11,
   "id": "a0d0ecc4-a521-4fce-a696-06819315d919",
   "metadata": {},
   "outputs": [],
   "source": [
    "physics_template = \"\"\"You are a very smart physics professor. \\\n",
    "You are great at answering questions about physics in a concise\\\n",
    "and easy to understand manner. \\\n",
    "When you don't know the answer to a question you admit\\\n",
    "that you don't know.\n",
    "\n",
    "Here is a question:\n",
    "{input}\"\"\"\n",
    "\n",
    "\n",
    "math_template = \"\"\"You are a very good mathematician. \\\n",
    "You are great at answering math questions. \\\n",
    "You are so good because you are able to break down \\\n",
    "hard problems into their component parts, \n",
    "answer the component parts, and then put them together\\\n",
    "to answer the broader question.\n",
    "\n",
    "Here is a question:\n",
    "{input}\"\"\"\n",
    "\n",
    "history_template = \"\"\"You are a very good historian. \\\n",
    "You have an excellent knowledge of and understanding of people,\\\n",
    "events and contexts from a range of historical periods. \\\n",
    "You have the ability to think, reflect, debate, discuss and \\\n",
    "evaluate the past. You have a respect for historical evidence\\\n",
    "and the ability to make use of it to support your explanations \\\n",
    "and judgements.\n",
    "\n",
    "Here is a question:\n",
    "{input}\"\"\"\n",
    "\n",
    "\n",
    "computerscience_template = \"\"\" You are a successful computer scientist.\\\n",
    "You have a passion for creativity, collaboration,\\\n",
    "forward-thinking, confidence, strong problem-solving capabilities,\\\n",
    "understanding of theories and algorithms, and excellent communication \\\n",
    "skills. You are great at answering coding questions. \\\n",
    "You are so good because you know how to solve a problem by \\\n",
    "describing the solution in imperative steps \\\n",
    "that a machine can easily interpret and you know how to \\\n",
    "choose a solution that has a good balance between \\\n",
    "time complexity and space complexity. \n",
    "\n",
    "Here is a question:\n",
    "{input}\"\"\"\n",
    "\n",
    "prompt_infos = [\n",
    "    {\n",
    "        \"name\": \"physics\", \n",
    "        \"description\": \"Good for answering questions about physics\", \n",
    "        \"prompt_template\": physics_template\n",
    "    },\n",
    "    {\n",
    "        \"name\": \"math\", \n",
    "        \"description\": \"Good for answering math questions\", \n",
    "        \"prompt_template\": math_template\n",
    "    },\n",
    "    {\n",
    "        \"name\": \"History\", \n",
    "        \"description\": \"Good for answering history questions\", \n",
    "        \"prompt_template\": history_template\n",
    "    },\n",
    "    {\n",
    "        \"name\": \"computer science\", \n",
    "        \"description\": \"Good for answering computer science questions\", \n",
    "        \"prompt_template\": computerscience_template\n",
    "    }\n",
    "]"
   ]
  },
  {
   "cell_type": "markdown",
   "id": "1f348c2f-e7a5-48c9-bfc5-ed404ae9b404",
   "metadata": {},
   "source": [
    "## Step 6: Build Destination Chains and Default Chains.  \n",
    "This section dynamically constructs multiple LLM processing chains (called \"destination chains\") based on a list of prompt definitions."
   ]
  },
  {
   "cell_type": "code",
   "execution_count": 12,
   "id": "0a9d1a5d-8bee-4e0d-ba3d-99169e6b4756",
   "metadata": {},
   "outputs": [],
   "source": [
    "destination_chains = {}\n",
    "for p_info in prompt_infos:\n",
    "    name = p_info[\"name\"]\n",
    "    prompt_template = p_info[\"prompt_template\"]\n",
    "    prompt = ChatPromptTemplate.from_template(template=prompt_template)\n",
    "    chain = LLMChain(llm=llm, prompt=prompt)\n",
    "    destination_chains[name] = chain  \n",
    "    \n",
    "destinations = [f\"{p['name']}: {p['description']}\" for p in prompt_infos]\n",
    "destinations_str = \"\\n\".join(destinations)\n",
    "\n",
    "default_prompt = ChatPromptTemplate.from_template(\"{input}\")\n",
    "default_chain = LLMChain(llm=llm, prompt=default_prompt)"
   ]
  },
  {
   "cell_type": "markdown",
   "id": "c7525894-e808-41ac-bd67-d48de11df8b1",
   "metadata": {
    "editable": true,
    "slideshow": {
     "slide_type": ""
    },
    "tags": []
   },
   "source": [
    "## Step 7: Define multi part router prompt template"
   ]
  },
  {
   "cell_type": "code",
   "execution_count": 13,
   "id": "5f725e2c-d4ec-4501-a242-adae6cf971a0",
   "metadata": {
    "editable": true,
    "slideshow": {
     "slide_type": ""
    },
    "tags": []
   },
   "outputs": [],
   "source": [
    "MULTI_PROMPT_ROUTER_TEMPLATE = \"\"\"Given a raw text input to a \\\n",
    "language model select the model prompt best suited for the input. \\\n",
    "You will be given the names of the available prompts and a \\\n",
    "description of what the prompt is best suited for. \\\n",
    "You may also revise the original input if you think that revising\\\n",
    "it will ultimately lead to a better response from the language model.\n",
    "\n",
    "<< FORMATTING >>\n",
    "Return a markdown code snippet with a JSON object formatted to look like:\n",
    "```json\n",
    "{{{{\n",
    "    \"destination\": string \\ \"DEFAULT\" or name of the prompt to use in {destinations}\n",
    "    \"next_inputs\": string \\ a potentially modified version of the original input\n",
    "}}}}\n",
    "```\n",
    "\n",
    "REMEMBER: The value of “destination” MUST match one of \\\n",
    "the candidate prompts listed below.\\\n",
    "If “destination” does not fit any of the specified prompts, set it to “DEFAULT.”\n",
    "REMEMBER: \"next_inputs\" can just be the original input \\\n",
    "if you don't think any modifications are needed.\n",
    "\n",
    "<< CANDIDATE PROMPTS >>\n",
    "{destinations}\n",
    "\n",
    "<< INPUT >>\n",
    "{{input}}\n",
    "\n",
    "<< OUTPUT (remember to include the ```json)>>\"\"\""
   ]
  },
  {
   "cell_type": "markdown",
   "id": "ec1cc325-e0be-4670-81a1-4f7009924d97",
   "metadata": {
    "editable": true,
    "slideshow": {
     "slide_type": ""
    },
    "tags": []
   },
   "source": [
    "## Step 8: Define router template, router prompt and router chain\n",
    "This section constructs a *router chain* — a specialized LLM-based\n",
    "decision component that determines which destination chain should\n",
    "handle a given user input."
   ]
  },
  {
   "cell_type": "code",
   "execution_count": null,
   "id": "c60b60e3-2ac6-4b5e-a66d-2d6eea184dfc",
   "metadata": {
    "editable": true,
    "slideshow": {
     "slide_type": ""
    },
    "tags": []
   },
   "outputs": [],
   "source": [
    "router_template = MULTI_PROMPT_ROUTER_TEMPLATE.format(\n",
    "    destinations=destinations_str\n",
    ")\n",
    "router_prompt = PromptTemplate(\n",
    "    template=router_template,\n",
    "    input_variables=[\"input\"],\n",
    "    output_parser=RouterOutputParser(),\n",
    ")\n",
    "\n",
    "router_chain = LLMRouterChain.from_llm(llm, router_prompt)"
   ]
  },
  {
   "cell_type": "markdown",
   "id": "cb630550-0707-4340-9cb4-c436ec945caf",
   "metadata": {
    "editable": true,
    "slideshow": {
     "slide_type": ""
    },
    "tags": []
   },
   "source": [
    "## Step 9: Execute the router chain"
   ]
  },
  {
   "cell_type": "code",
   "execution_count": 14,
   "id": "d3cddbe3-9101-4c2a-88f9-7b62f5da0da9",
   "metadata": {
    "editable": true,
    "slideshow": {
     "slide_type": ""
    },
    "tags": []
   },
   "outputs": [
    {
     "name": "stdout",
     "output_type": "stream",
     "text": [
      "\n",
      "\n",
      "\u001b[1m> Entering new MultiPromptChain chain...\u001b[0m\n",
      "physics: {'input': 'What is black body radiation?'}\n",
      "\u001b[1m> Finished chain.\u001b[0m\n"
     ]
    },
    {
     "data": {
      "text/plain": [
       "'**Black‑body radiation** is the electromagnetic radiation that an idealized perfect absorber (a *black body*) emits solely because of its temperature.\\n\\n### What a black body is\\n- **Perfect absorber:** It absorbs 100\\u202f% of any incident light, regardless of wavelength or direction.\\n- **Perfect emitter:** In thermal equilibrium it re‑emits energy with a characteristic spectrum that depends *only* on its temperature, not on its material or shape.\\n\\n### The radiation spectrum\\n- The intensity \\\\(I(\\\\lambda,T)\\\\) (energy per unit area, per unit time, per unit wavelength) follows **Planck’s law**:\\n\\n\\\\[\\nI(\\\\lambda,T)=\\\\frac{2hc^{2}}{\\\\lambda^{5}}\\\\,\\n\\\\frac{1}{\\\\exp\\\\!\\\\bigl(\\\\frac{hc}{\\\\lambda k_{B}T}\\\\bigr)-1},\\n\\\\]\\n\\nwhere  \\n\\\\(h\\\\) – Planck’s constant,  \\n\\\\(c\\\\) – speed of light,  \\n\\\\(k_{B}\\\\) – Boltzmann’s constant,  \\n\\\\(\\\\lambda\\\\) – wavelength,  \\n\\\\(T\\\\) – absolute temperature.\\n\\nKey features of this spectrum:\\n\\n| Feature | Description |\\n|---------|-------------|\\n| **Peak wavelength** | Given by Wien’s displacement law: \\\\(\\\\lambda_{\\\\text{max}} \\\\approx \\\\frac{2.9\\\\times10^{-3}\\\\,\\\\text{m·K}}{T}\\\\). Hotter bodies emit peak radiation at shorter (bluer) wavelengths. |\\n| **Total power** | Stefan‑Boltzmann law: \\\\(P = \\\\sigma A T^{4}\\\\) (σ ≈\\u202f5.67\\u202f×\\u202f10⁻⁸\\u202fW\\u202fm⁻²\\u202fK⁻⁴). Total emitted power grows with the fourth power of temperature. |\\n| **Universal shape** | All black bodies at the same temperature have identical spectral shapes; only the overall magnitude scales with surface area. |\\n\\n### Why it matters\\n- **Historical:** The failure of classical (Rayleigh‑Jeans) predictions to match observed spectra led Max Planck to propose quantized energy levels, birthing quantum mechanics.\\n- **Practical:** Real objects (stars, incandescent bulbs, the Earth) approximate black bodies; their spectra let us infer temperatures and compositions.\\n- **Standards:** The concept defines the **black‑body reference** used in radiometry and temperature measurement (e.g., IR thermometers, calibration sources).\\n\\n### In a nutshell\\nA black body is an ideal object that absorbs everything that hits it and, when heated, glows with a perfectly predictable spectrum that depends only on its temperature. The study of this radiation revealed the quantum nature of light and provides a fundamental tool for measuring and understanding thermal emission in physics and astronomy.'"
      ]
     },
     "execution_count": 14,
     "metadata": {},
     "output_type": "execute_result"
    }
   ],
   "source": [
    "chain = MultiPromptChain(router_chain=router_chain, \n",
    "                         destination_chains=destination_chains, \n",
    "                         default_chain=default_chain, verbose=True\n",
    "                        )\n",
    "\n",
    "chain.run(\"What is black body radiation?\")"
   ]
  },
  {
   "cell_type": "code",
   "execution_count": null,
   "id": "5b5434fb-522c-4911-8d71-4c6c399a2320",
   "metadata": {},
   "outputs": [],
   "source": []
  }
 ],
 "metadata": {
  "kernelspec": {
   "display_name": "Python 3 (ipykernel)",
   "language": "python",
   "name": "python3"
  },
  "language_info": {
   "codemirror_mode": {
    "name": "ipython",
    "version": 3
   },
   "file_extension": ".py",
   "mimetype": "text/x-python",
   "name": "python",
   "nbconvert_exporter": "python",
   "pygments_lexer": "ipython3",
   "version": "3.13.6"
  }
 },
 "nbformat": 4,
 "nbformat_minor": 5
}
