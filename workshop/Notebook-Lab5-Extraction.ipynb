{
 "cells": [
  {
   "cell_type": "markdown",
   "id": "1b3127c3-1fea-40d8-a45a-dca5c4e866eb",
   "metadata": {},
   "source": [
    "## Information Extraction using LLM\n",
    "This example demonstrates text information extraction example using Open AI compatible LLM endpoint"
   ]
  },
  {
   "cell_type": "markdown",
   "id": "6a8fc99e-8f9d-4b0f-a350-f0f528511a83",
   "metadata": {},
   "source": [
    "### Step 0: Set the working directory for the project"
   ]
  },
  {
   "cell_type": "code",
   "execution_count": 29,
   "id": "0507364d-5c21-4ecc-ad39-cdbce38d8eb8",
   "metadata": {},
   "outputs": [
    {
     "name": "stdout",
     "output_type": "stream",
     "text": [
      "/home/vcap/app/cf-jupyterlab-workshop\n"
     ]
    }
   ],
   "source": [
    "# set the working directory for the project\n",
    "%cd /home/vcap/app/cf-jupyterlab-workshop"
   ]
  },
  {
   "cell_type": "markdown",
   "id": "ca05bee2-62bb-41ed-bd3e-3acd9b4804cd",
   "metadata": {},
   "source": [
    "### Step 1: Import the dependencies"
   ]
  },
  {
   "cell_type": "code",
   "execution_count": 30,
   "id": "43fd0725-b958-492b-882d-3c56aef9f6cb",
   "metadata": {},
   "outputs": [],
   "source": [
    "import sys, os\n",
    "import requests\n",
    "import json\n",
    "import httpx\n",
    "import warnings\n",
    "from langchain_core.prompts import ChatPromptTemplate\n",
    "from langchain_classic.chains import LLMChain\n",
    "from langchain_openai import ChatOpenAI\n",
    "from tanzu_utils import CFGenAIService\n",
    "from os import listdir\n",
    "from os.path import isfile, join\n",
    "warnings.filterwarnings('ignore')"
   ]
  },
  {
   "cell_type": "markdown",
   "id": "db315436-a133-4b52-80f5-8d6070b5fef3",
   "metadata": {},
   "source": [
    "### Step 2: Set up the OpenAI API credentials"
   ]
  },
  {
   "cell_type": "code",
   "execution_count": 31,
   "id": "859f8644-917e-488d-890c-ede2c808d465",
   "metadata": {},
   "outputs": [
    {
     "name": "stdout",
     "output_type": "stream",
     "text": [
      "- openai/gpt-oss-120b (capabilities: CHAT, TOOLS)\n"
     ]
    }
   ],
   "source": [
    "# load your service details replace name with your Gen AI service.  Gen AI service is bound to the app\n",
    "chat_service = CFGenAIService(\"tanzu-gpt-oss-120b\")\n",
    "\n",
    "# List available models\n",
    "models = chat_service.list_models()\n",
    "for m in models:\n",
    "    print(f\"- {m['name']} (capabilities: {', '.join(m['capabilities'])})\")\n",
    "\n",
    "# construct chat_credentials\n",
    "chat_credentials = {\n",
    "    \"api_base\": chat_service.api_base + \"/openai/v1\",\n",
    "    \"api_key\": chat_service.api_key,\n",
    "    \"model_name\": models[0][\"name\"]\n",
    "}"
   ]
  },
  {
   "cell_type": "markdown",
   "id": "8239f672-fa95-4395-95e4-ae7f23a3bb9f",
   "metadata": {},
   "source": [
    "### Step 3: Initialize the LLM"
   ]
  },
  {
   "cell_type": "code",
   "execution_count": 32,
   "id": "521d7819-6ae0-4898-bbe5-3b4925ca6af3",
   "metadata": {},
   "outputs": [],
   "source": [
    "# 2. HTTP client (optional but recommended for custom config)\n",
    "httpx_client = httpx.Client(verify=False)  # verify=False if your endpoint needs --insecure\n",
    "\n",
    "# 3. Initialize the LLM\n",
    "llm = ChatOpenAI(\n",
    "    temperature=0.9,\n",
    "    model=chat_credentials[\"model_name\"],   # model name from CF service\n",
    "    base_url=chat_credentials[\"api_base\"],  # OpenAI-compatible endpoint\n",
    "    api_key=chat_credentials[\"api_key\"],    # Bearer token\n",
    "    http_client=httpx_client\n",
    ")"
   ]
  },
  {
   "cell_type": "markdown",
   "id": "8bd9fddc-93a3-4986-b4c4-3d6e6d9be980",
   "metadata": {},
   "source": [
    "### Step 4: Create a prompt template"
   ]
  },
  {
   "cell_type": "code",
   "execution_count": 33,
   "id": "1fac3139-9ed8-487d-bbef-99c093ffc40b",
   "metadata": {},
   "outputs": [],
   "source": [
    "template=\"\"\"<s>[INST]\n",
    "You are a helpful, respectful and honest assistant.\n",
    "Always assist with care, respect, and truth. Respond with utmost utility yet securely.\n",
    "Avoid harmful, unethical, prejudiced, or negative content. Ensure replies promote fairness and positivity.\n",
    "I will give you a text, then ask a question about it. Give a precise and as concise as possible answer to this question.\n",
    "\n",
    "### TEXT:\n",
    "{text}\n",
    "\n",
    "### QUESTION:\n",
    "{query}\n",
    "\n",
    "### ANSWER:\n",
    "[/INST]\n",
    "\"\"\"\n",
    "PROMPT = ChatPromptTemplate.from_template(template)"
   ]
  },
  {
   "cell_type": "markdown",
   "id": "4c459d0a-6dee-4b95-a3d0-e8ca05dfe36a",
   "metadata": {},
   "source": [
    "### Step 5: Create a create a chain"
   ]
  },
  {
   "cell_type": "code",
   "execution_count": 34,
   "id": "0e505a80-49b9-465e-a5ad-d5b1ba832394",
   "metadata": {},
   "outputs": [],
   "source": [
    "conversation = LLMChain(llm=llm,\n",
    "                        prompt=PROMPT,\n",
    "                        verbose=False\n",
    "                        )"
   ]
  },
  {
   "cell_type": "markdown",
   "id": "61458cb8-48f2-459b-a326-f3aa0dd8eea5",
   "metadata": {},
   "source": [
    "### Step 6: read the claims from directory and populate a dictionary"
   ]
  },
  {
   "cell_type": "code",
   "execution_count": 35,
   "id": "5542ee0f-646c-4ff1-995b-24fe26874e5f",
   "metadata": {},
   "outputs": [],
   "source": [
    "# Read the claims and populate a dictionary\n",
    "claims_path = '/home/vcap/app/cf-jupyterlab-workshop/workshop/claims'\n",
    "onlyfiles = [f for f in listdir(claims_path) if isfile(join(claims_path, f))]\n",
    "\n",
    "claims = {}\n",
    "\n",
    "for filename in onlyfiles:\n",
    "    # Opening JSON file\n",
    "    with open(os.path.join(claims_path, filename), 'r') as file:\n",
    "        data = json.load(file)\n",
    "    claims[filename] = data"
   ]
  },
  {
   "cell_type": "markdown",
   "id": "b2c05f21-cf25-4c2b-8e96-0b7c72e9c589",
   "metadata": {},
   "source": [
    "### Step 7 run the chain and display original claim and extract sentiment, location and time of the claim"
   ]
  },
  {
   "cell_type": "code",
   "execution_count": 37,
   "id": "b550762c-0871-4e1a-ad18-d0fd4ba3106a",
   "metadata": {},
   "outputs": [
    {
     "name": "stdout",
     "output_type": "stream",
     "text": [
      "***************************\n",
      "* Claim: claim1.json\n",
      "***************************\n",
      "Original content:\n",
      "-----------------\n",
      "Subject: Claim for Recent Car Accident - Policy Number: AC-987654321\n",
      "Content:\n",
      "Dear Pacific Shield Insurance,\n",
      "\n",
      "I hope this email finds you well. My name is Sarah Turner, and I am writing to file a claim for a recent car accident that occurred on January 2nd, 2024, at approximately 3:30 PM. My policy number is AC-987654321.\n",
      "\n",
      "The accident took place at the intersection of Birch Street and Willow Avenue in the city of Evergreen. I was driving my vehicle, a black Toyota Camry with license plate number DEF-456, heading south on Birch Street. At the intersection, the traffic signal was green, and I proceeded through the intersection.\n",
      "\n",
      "At the same time, another vehicle, a blue Chevrolet Traverse with license plate number GHI-789, was traveling west on Willow Avenue. Unfortunately, the driver failed to stop at the red traffic signal, resulting in a collision with the front passenger side of my vehicle.\n",
      "\n",
      "The impact caused significant damage to both vehicles. The front bumper and right headlight of my Toyota Camry are extensively damaged, and there are also damages to the front driver's side of the Chevrolet Traverse. Fortunately, no injuries were sustained during the accident, and both drivers were able to move their vehicles to the side of the road.\n",
      "\n",
      "I promptly exchanged information with the other driver, Mr. Daniel Reynolds, including our names, phone numbers, insurance details, and a brief description of the accident. Additionally, I took photos of the accident scene, including the damages to both vehicles and the position of the traffic signal.\n",
      "\n",
      "I have attached the necessary documents to this email, including the photos, a copy of the police report filed at the Evergreen Police Department, and the estimate for the repair costs from Evergreen Auto Repair, where I have taken my vehicle for assessment.\n",
      "\n",
      "I kindly request your prompt attention to this matter and would appreciate any guidance on the next steps in the claims process. If you require any additional information or documentation, please do not hesitate to contact me at (555) 123-4567 or sarah.turner@email.com.\n",
      "\n",
      "Thank you for your assistance, and I look forward to a swift resolution of this claim.\n",
      "\n",
      "Sincerely,\n",
      "\n",
      "Sarah Turner\n",
      "123 Oak Street\n",
      "Evergreen, CA 98765\n",
      "(555) 123-4567\n",
      "sarah.turner@email.com\n",
      "\n",
      "\n",
      "Analysis:\n",
      "--------\n",
      "- Sentiment: \n",
      "The sender’s tone is courteous and polite—overall a neutral‑to‑positive sentiment, expressing confidence and appreciation while requesting assistance.\n",
      "\n",
      "- Location: \n",
      "The claim concerns an accident at the intersection of Birch Street and Willow Avenue in Evergreen.\n",
      "\n",
      "- Time: \n",
      "January 2, 2024, at approximately 3:30 PM.\n",
      "\n",
      "\n",
      "                          ----====----\n",
      "\n",
      "***************************\n",
      "* Claim: claim2.json\n",
      "***************************\n",
      "Original content:\n",
      "-----------------\n",
      "Subject: Urgent: Unacceptable Delay and Lack of Communication Regarding Claim #XYZ789\n",
      "Content:\n",
      "Dear Prestige Insurances,\n",
      "\n",
      "I am writing to express my extreme dissatisfaction with the appalling service I have received concerning my recent claim, reference number #XYZ789. The lack of communication and delayed response from your company is utterly unacceptable, and I demand immediate attention to rectify this matter.\n",
      "\n",
      "The accident occurred on January 15, 2024, at approximately 3:45 PM, near the intersection of Maple Street and Oak Avenue in Rivertown. My vehicle, a Silver Hawk GT, was struck by another driver, identified as Samantha Reynolds, who ran a red light at the aforementioned intersection. This incident resulted in substantial damage to the front end of my car, including severe structural damage and airbag deployment.\n",
      "\n",
      "I reported the claim immediately after the accident, providing all necessary details, witness information, and a detailed description of the events leading up to the collision. However, the response—or lack thereof—from your company has been absolutely deplorable. I have yet to receive any updates on the status of my claim, and my attempts to contact your claims department have been met with prolonged hold times and unhelpful representatives.\n",
      "\n",
      "I insist on a thorough investigation into this matter and demand an explanation for the unreasonable delay. It is my right as a policyholder to receive timely updates on the progress of my claim and to be treated with the respect and urgency that this situation demands.\n",
      "\n",
      "Furthermore, the lack of transparency and communication from your company is not only unprofessional but also exacerbates the stress and inconvenience caused by the accident itself. I expect immediate action to be taken to expedite the processing of my claim and provide me with the information I am entitled to as a paying customer.\n",
      "\n",
      "I am appalled at the disregard for customer satisfaction and the apparent negligence displayed by your company in handling my claim. If my concerns are not addressed promptly and to my satisfaction, I will have no choice but to escalate this matter to the appropriate regulatory authorities and consider legal action.\n",
      "\n",
      "I demand a comprehensive update on the status of my claim within the next 48 hours. Failing to meet this deadline will only reinforce my belief that your company values its bottom line over the well-being of its customers.\n",
      "\n",
      "I trust that you will treat this matter with the urgency and seriousness it deserves.\n",
      "\n",
      "Sincerely,\n",
      "\n",
      "John T. Anderson\n",
      "Policy Number: PT567890\n",
      "\n",
      "\n",
      "Analysis:\n",
      "--------\n",
      "- Sentiment: \n",
      "The sender’s sentiment is strongly negative — angry, frustrated, and dissatisfied with the insurer’s handling of the claim.\n",
      "\n",
      "- Location: \n",
      "The accident occurred at the intersection of Maple Street and Oak Avenue in Rivertown.\n",
      "\n",
      "- Time: \n",
      "The accident occurred on **January 15, 2024, at approximately 3:45 PM**.\n",
      "\n",
      "\n",
      "                          ----====----\n",
      "\n",
      "***************************\n",
      "* Claim: claim3.json\n",
      "***************************\n",
      "Original content:\n",
      "-----------------\n",
      "Subject: Urgent: Car Accident Claim Assistance Needed\n",
      "Content:\n",
      "Dear AssuranceCare Inc.,\\n\\nI hope this email finds you well. I'm writing to, uh, inform you about, well, something that happened recently. It's, um, about a car accident, and I'm not really sure how to, you know, go about all this. I'm kinda anxious and confused, to be honest.\\n\\nSo, the accident, uh, occurred on January 15, 2024, at around 3:30 PM. I was driving, or, um, attempting to drive, my car at the intersection of Maple Street and Elm Avenue. It's kinda close to, um, a gas station and a, uh, coffee shop called Brew Haven? I'm not sure if that matters, but, yeah.\\n\\nSo, I was just, you know, driving along, and suddenly, out of nowhere, another car, a Blue Crest Sedan, crashed into the, uh, driver's side of my car. It was like, whoa, what just happened, you know? There was this screeching noise and, uh, some honking from other cars, and I just felt really, uh, overwhelmed.\\n\\nThe weather was, um, kinda cloudy that day, but I don't think it was raining. I mean, I can't really remember. Sorry if that's important. Anyway, the road, or, well, maybe the intersection, was kinda busy, with cars going in different directions. I guess that's, you know, a detail you might need?\\n\\nAs for damages, my car has, uh, significant damage on the driver's side. The front door is all dented, and the side mirror is, like, hanging by a thread. It's not really drivable in its current, uh, state. The Blue Crest Sedan also had some damage, but I'm not exactly sure what because, you know, everything happened so fast.\\n\\nI did manage to exchange information with the other driver. Their name is Sarah Johnson, and I got their phone number (555-1234), license plate number (ABC123), and insurance information. So, yeah, I hope that's helpful.\\n\\nI'm not sure what, um, steps I should take now. Do I need to go to a specific, uh, repair shop? Should I get a quote for the repairs? And, uh, how do I, you know, proceed with the insurance claim? I'm kinda lost here, and any guidance or assistance you can provide would be really, um, appreciated.\\n\\nSorry if this email is a bit all over the place. I'm just really, uh, anxious about the whole situation. Thank you for your understanding.\\n\\nSincerely,\\n\\nJane Doe\\nPolicy Number: AC987654\n",
      "\n",
      "\n",
      "Analysis:\n",
      "--------\n",
      "- Sentiment: \n",
      "The sender’s sentiment is anxious, confused, and overwhelmed.\n",
      "\n",
      "- Location: \n",
      "The accident occurred at the intersection of **Maple Street and Elm Avenue**.\n",
      "\n",
      "- Time: \n",
      "The accident occurred on **January 15, 2024, at about 3:30 PM**.\n",
      "\n",
      "\n",
      "                          ----====----\n",
      "\n"
     ]
    }
   ],
   "source": [
    "for filename in onlyfiles:\n",
    "    print(f\"***************************\")\n",
    "    print(f\"* Claim: {filename}\")\n",
    "    print(f\"***************************\")\n",
    "    print(\"Original content:\")\n",
    "    print(\"-----------------\")\n",
    "    print(f\"Subject: {claims[filename]['subject']}\\nContent:\\n{claims[filename]['content']}\\n\\n\")\n",
    "    print('Analysis:')\n",
    "    print(\"--------\")\n",
    "    text_input = f\"Subject: {claims[filename]['subject']}\\nContent:\\n{claims[filename]['content']}\"\n",
    "    sentiment_query = \"What is the sentiment of the person sending this claim?\"\n",
    "    location_query = \"Where does the event the claim is related to happen?\"\n",
    "    time_query = \"When does the event the claim is related to happen? If possible, specify the date and the time.\"\n",
    "    print(f\"- Sentiment: \")\n",
    "    sentiment = conversation.predict(text=text_input, query=sentiment_query);\n",
    "    print(sentiment)\n",
    "    print(\"\\n- Location: \")\n",
    "    loc = conversation.predict(text=text_input, query=location_query);\n",
    "    print(loc)\n",
    "    print(\"\\n- Time: \")\n",
    "    t = conversation.predict(text=text_input, query=time_query);\n",
    "    print(t)\n",
    "    print(\"\\n\\n                          ----====----\\n\")       "
   ]
  },
  {
   "cell_type": "code",
   "execution_count": null,
   "id": "30fd18da-fe38-4e9b-8eed-258dbebaf900",
   "metadata": {},
   "outputs": [],
   "source": []
  }
 ],
 "metadata": {
  "kernelspec": {
   "display_name": "Python 3 (ipykernel)",
   "language": "python",
   "name": "python3"
  },
  "language_info": {
   "codemirror_mode": {
    "name": "ipython",
    "version": 3
   },
   "file_extension": ".py",
   "mimetype": "text/x-python",
   "name": "python",
   "nbconvert_exporter": "python",
   "pygments_lexer": "ipython3",
   "version": "3.13.6"
  }
 },
 "nbformat": 4,
 "nbformat_minor": 5
}
