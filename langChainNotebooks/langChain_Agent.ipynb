{
 "cells": [
  {
   "cell_type": "raw",
   "id": "c1f07eaf-48bb-4a71-9e2e-627dbeb0e08e",
   "metadata": {},
   "source": [
    "## LangChain with time tool\n",
    "> **Expected Output**: Action: today's date\n",
    "\n",
    "LangChain agent with time tool.  The tool is defined with a LangChain decorator and registered with the initialized agent.\n"
   ]
  },
  {
   "cell_type": "code",
   "execution_count": 6,
   "id": "ab94697d-28c3-4d91-8ea1-ed593f7e41d0",
   "metadata": {},
   "outputs": [],
   "source": [
    "import os\n",
    "import requests\n",
    "import json\n",
    "import httpx\n",
    "from openai import OpenAI\n",
    "from langchain.prompts import ChatPromptTemplate\n",
    "from langchain.chains import LLMChain\n",
    "from langchain_openai import ChatOpenAI\n",
    "from langchain.agents import tool\n",
    "from langchain.agents import initialize_agent, AgentType, load_tools\n",
    "from langchain_core.tools import Tool\n",
    "from langchain.tools import tool\n",
    "from datetime import date\n",
    "import warnings\n",
    "from cfenv import AppEnv\n",
    "import sys, os\n",
    "\n",
    "# go one level up from cflangchainfolder/ to project root\n",
    "sys.path.append(os.path.abspath(\"..\"))\n",
    "from cfutils import CFGenAIService"
   ]
  },
  {
   "cell_type": "code",
   "execution_count": 11,
   "id": "0a7de7f5-5e5e-4dcc-bad2-e30996a2e8a2",
   "metadata": {},
   "outputs": [
    {
     "name": "stdout",
     "output_type": "stream",
     "text": [
      "API Base: https://genai-proxy.sys.tas-ndc.kuhn-labs.com/tanzu-gpt-oss-120b-b83126a/openai\n",
      "Config URL: https://genai-proxy.sys.tas-ndc.kuhn-labs.com/tanzu-gpt-oss-120b-b83126a/config/v1/endpoint\n",
      "- gpt-oss:120b (capabilities: CHAT, TOOLS)\n"
     ]
    },
    {
     "name": "stderr",
     "output_type": "stream",
     "text": [
      "/home/vcap/app/.venv/lib/python3.13/site-packages/urllib3/connectionpool.py:1097: InsecureRequestWarning: Unverified HTTPS request is being made to host 'genai-proxy.sys.tas-ndc.kuhn-labs.com'. Adding certificate verification is strongly advised. See: https://urllib3.readthedocs.io/en/latest/advanced-usage.html#tls-warnings\n",
      "  warnings.warn(\n"
     ]
    }
   ],
   "source": [
    "# Load CF environment\n",
    "env = AppEnv()\n",
    "\n",
    "# load your service details replace name with your Gen AI service.  Gen AI service is bound to the app\n",
    "genai = CFGenAIService(\"gpt-oss:120b\")\n",
    "print(\"API Base:\", genai.api_base)\n",
    "print(\"Config URL:\", genai.config_url)\n",
    "\n",
    "# List available models\n",
    "models = genai.list_models()\n",
    "for m in models:\n",
    "    print(f\"- {m['name']} (capabilities: {', '.join(m['capabilities'])})\")\n",
    "\n",
    "# construct chat_credentials\n",
    "chat_credentials = {\n",
    "    \"api_base\": genai.api_base,\n",
    "    \"api_key\": genai.api_key,\n",
    "    \"model_name\": models[0][\"name\"]\n",
    "}\n",
    "\n",
    "# 2. HTTP client (optional but recommended for custom config)\n",
    "httpx_client = httpx.Client(verify=False)  # verify=False if your endpoint needs --insecure\n",
    "\n",
    "# 3. Initialize the LLM\n",
    "llm = ChatOpenAI(\n",
    "    temperature=0.9,\n",
    "    model=chat_credentials[\"model_name\"],   # model name from CF service\n",
    "    base_url=chat_credentials[\"api_base\"],  # OpenAI-compatible endpoint\n",
    "    api_key=chat_credentials[\"api_key\"],    # Bearer token\n",
    "    http_client=httpx_client\n",
    ")"
   ]
  },
  {
   "cell_type": "code",
   "execution_count": 12,
   "id": "9b211dc7-c7ab-46ef-9be3-622d9eebbebe",
   "metadata": {},
   "outputs": [],
   "source": [
    "@tool\n",
    "def time(text: str) -> str:\n",
    "    \"\"\"Returns todays date, use this for any \\\n",
    "    questions related to knowing todays date. \\\n",
    "    The input should always be an empty string, \\\n",
    "    and this function will always return todays \\\n",
    "    date - any date mathmatics should occur \\\n",
    "    outside this function.\"\"\"\n",
    "    return str(date.today())\n",
    "\n",
    "\n",
    "# list of tools for agent\n",
    "tools = [time]"
   ]
  },
  {
   "cell_type": "code",
   "execution_count": 13,
   "id": "85b4dd9e-8cc4-471a-a2fe-57762ff80e24",
   "metadata": {},
   "outputs": [
    {
     "name": "stdout",
     "output_type": "stream",
     "text": [
      "\n",
      "\n",
      "\u001b[1m> Entering new AgentExecutor chain...\u001b[0m\n",
      "\u001b[32;1m\u001b[1;3mCould not parse LLM output: \n",
      "For troubleshooting, visit: https://python.langchain.com/docs/troubleshooting/errors/OUTPUT_PARSING_FAILURE \u001b[0m\n",
      "Observation: Invalid or incomplete response\n",
      "Thought:\u001b[32;1m\u001b[1;3mQuestion: whats the date today?\n",
      "\n",
      "Thought: I need to get today's date using the time tool.\n",
      "\n",
      "Action:\n",
      "```\n",
      "{\n",
      "  \"action\": \"time\",\n",
      "  \"action_input\": \"\"\n",
      "}\n",
      "```\u001b[0m\n",
      "Observation: \u001b[36;1m\u001b[1;3m2025-09-19\u001b[0m\n",
      "Thought:\u001b[32;1m\u001b[1;3mQuestion: whats the date today?\n",
      "Thought: I need to get today's date using the time tool.\n",
      "Action:\n",
      "```\n",
      "{\n",
      "  \"action\": \"time\",\n",
      "  \"action_input\": \"\"\n",
      "}\n",
      "```\n",
      "\u001b[0m\n",
      "Observation: \u001b[36;1m\u001b[1;3m2025-09-19\u001b[0m\n",
      "Thought:\u001b[32;1m\u001b[1;3mQuestion: whats the date today?\n",
      "Thought: I need to retrieve today's date using the time tool.\n",
      "Action:\n",
      "```\n",
      "{\n",
      "  \"action\": \"time\",\n",
      "  \"action_input\": \"\"\n",
      "}\n",
      "```\n",
      "\u001b[0m\n",
      "Observation: \u001b[36;1m\u001b[1;3m2025-09-19\u001b[0m\n",
      "Thought:\u001b[32;1m\u001b[1;3mQuestion: whats the date today?\n",
      "Thought: I have obtained the date using the time tool.\n",
      "Final Answer: Today's date is 2025-09-19.\u001b[0m\n",
      "\n",
      "\u001b[1m> Finished chain.\u001b[0m\n"
     ]
    }
   ],
   "source": [
    "# initialize agent with tools and llm\n",
    "agent= initialize_agent(\n",
    "    tools, \n",
    "    llm, \n",
    "    agent=AgentType.CHAT_ZERO_SHOT_REACT_DESCRIPTION,\n",
    "    handle_parsing_errors=True,\n",
    "    verbose = True)\n",
    "\n",
    "try:\n",
    "    result = agent(\"whats the date today?\") \n",
    "except: \n",
    "    print(\"exception on external access\")\n"
   ]
  },
  {
   "cell_type": "code",
   "execution_count": null,
   "id": "9fe7e24d-4efe-4486-aaad-ed9c9ec900c8",
   "metadata": {},
   "outputs": [],
   "source": []
  }
 ],
 "metadata": {
  "kernelspec": {
   "display_name": "Python 3 (ipykernel)",
   "language": "python",
   "name": "python3"
  },
  "language_info": {
   "codemirror_mode": {
    "name": "ipython",
    "version": 3
   },
   "file_extension": ".py",
   "mimetype": "text/x-python",
   "name": "python",
   "nbconvert_exporter": "python",
   "pygments_lexer": "ipython3",
   "version": "3.13.6"
  }
 },
 "nbformat": 4,
 "nbformat_minor": 5
}
