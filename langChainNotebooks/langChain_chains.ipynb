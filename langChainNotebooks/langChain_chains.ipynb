{
 "cells": [
  {
   "cell_type": "markdown",
   "id": "094950d5-b985-4328-98d2-8e9c509d3d3c",
   "metadata": {},
   "source": [
    "## LangChain with Simple Chain Pattern\n",
    "> **Expected Output**: Action:\n",
    "\n",
    "This code is setting up a LangChain example that connects to a custom OpenAI-compatible large language model (LLM) endpoint using credentials from the environment, then prompts it to suggest a provide a 5 lines of overview of \"VMware Tanzu Hub\"\n"
   ]
  },
  {
   "cell_type": "code",
   "execution_count": 7,
   "id": "cef345bb-cda6-42e6-b77e-212f1256c39b",
   "metadata": {},
   "outputs": [],
   "source": [
    "import os\n",
    "import requests\n",
    "import json\n",
    "from openai import OpenAI\n",
    "import httpx\n",
    "from langchain.prompts import ChatPromptTemplate\n",
    "from langchain.chains import LLMChain\n",
    "from langchain_openai import ChatOpenAI\n",
    "import warnings\n",
    "from cfenv import AppEnv\n",
    "import sys, os\n",
    "from tanzu_utils import CFGenAIService\n",
    "warnings.filterwarnings('ignore')"
   ]
  },
  {
   "cell_type": "code",
   "execution_count": 8,
   "id": "f5a4482e-1d23-4302-b8c3-c8cdaf5af26a",
   "metadata": {},
   "outputs": [
    {
     "name": "stdout",
     "output_type": "stream",
     "text": [
      "- openai/gpt-oss-120b (capabilities: CHAT, TOOLS)\n"
     ]
    }
   ],
   "source": [
    "# Load CF environment\n",
    "env = AppEnv()\n",
    "\n",
    "# load your service details replace name with your Gen AI service.  Gen AI service is bound to the app\n",
    "chat_service = CFGenAIService(\"tanzu-gpt-oss-120b\")\n",
    "\n",
    "# List available models\n",
    "models = chat_service.list_models()\n",
    "for m in models:\n",
    "    print(f\"- {m['name']} (capabilities: {', '.join(m['capabilities'])})\")\n",
    "\n",
    "# construct chat_credentials\n",
    "chat_credentials = {\n",
    "    \"api_base\": chat_service.api_base + \"/openai/v1\",\n",
    "    \"api_key\": chat_service.api_key,\n",
    "    \"model_name\": models[0][\"name\"]\n",
    "}"
   ]
  },
  {
   "cell_type": "code",
   "execution_count": 9,
   "id": "2821d406-4cc7-49e3-9eae-eac3d77fa7fa",
   "metadata": {},
   "outputs": [],
   "source": [
    "# 2. HTTP client (optional but recommended for custom config)\n",
    "httpx_client = httpx.Client(verify=False)  # verify=False if your endpoint needs --insecure\n",
    "\n",
    "# 3. Initialize the LLM\n",
    "llm = ChatOpenAI(\n",
    "    temperature=0.9,\n",
    "    model=chat_credentials[\"model_name\"],   # model name from CF service\n",
    "    base_url=chat_credentials[\"api_base\"],  # OpenAI-compatible endpoint\n",
    "    api_key=chat_credentials[\"api_key\"],    # Bearer token\n",
    "    http_client=httpx_client\n",
    ")"
   ]
  },
  {
   "cell_type": "code",
   "execution_count": 10,
   "id": "bee70dce-b827-454e-a1b5-1fdbeeacd321",
   "metadata": {},
   "outputs": [
    {
     "name": "stdout",
     "output_type": "stream",
     "text": [
      "**VMware Tanzu Hub – 5‑line overview**\n",
      "\n",
      "1. **Unified Control Plane** – Tanzu Hub serves as a central, cloud‑native console that aggregates visibility, policy, and lifecycle management for all Tanzu‑managed Kubernetes clusters across on‑prem, public‑cloud, and edge environments.  \n",
      "2. **Key Features** – Multi‑cluster inventory, automated compliance checks, version‑drift detection, integrated cost‑and‑usage analytics, and role‑based access control (RBAC) that propagate across the fleet.  \n",
      "3. **Core Components** – Tanzu Hub UI/API, the Tanzu Mission Control service (for cluster provisioning & governance), and the Tanzu Observability & Logging back‑ends that feed telemetry into the hub.  \n",
      "4. **Ecosystem Integrations** – Seamlessly connects with Tanzu Kubernetes Grid (TKG), Tanzu Application Service, Tanzu Data Services, and Tanzu Build Service, enabling a single pane of glass for workloads, data platforms, and CI/CD pipelines.  \n",
      "5. **Extensibility & Automation** – Provides a programmable SDK and webhook framework, allowing custom policies, third‑party toolchains (e.g., Argo CD, HashiCorp Vault) and DevSecOps workflows to be plugged directly into the hub’s governance engine.\n"
     ]
    }
   ],
   "source": [
    "# Create a prompt template\n",
    "prompt = ChatPromptTemplate.from_template(\n",
    "    \"Please provide a 5 lines of overview of {topic}, including its key features, components, and integrations within the VMware Tanzu ecosystem.\"\n",
    ")\n",
    "\n",
    "# Create the chain\n",
    "chain = LLMChain(llm=llm, prompt=prompt)\n",
    "\n",
    "# Define the topic\n",
    "topic = \"VMware Tanzu Hub\"\n",
    "\n",
    "# Run the chain\n",
    "response = chain.run(topic)\n",
    "print(response)"
   ]
  },
  {
   "cell_type": "code",
   "execution_count": null,
   "id": "b55a064b-7f46-4a26-a128-ab7f79c895ea",
   "metadata": {},
   "outputs": [],
   "source": []
  }
 ],
 "metadata": {
  "kernelspec": {
   "display_name": "Python 3 (ipykernel)",
   "language": "python",
   "name": "python3"
  },
  "language_info": {
   "codemirror_mode": {
    "name": "ipython",
    "version": 3
   },
   "file_extension": ".py",
   "mimetype": "text/x-python",
   "name": "python",
   "nbconvert_exporter": "python",
   "pygments_lexer": "ipython3",
   "version": "3.13.6"
  }
 },
 "nbformat": 4,
 "nbformat_minor": 5
}
