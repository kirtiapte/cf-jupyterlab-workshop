{
 "cells": [
  {
   "cell_type": "markdown",
   "id": "094950d5-b985-4328-98d2-8e9c509d3d3c",
   "metadata": {},
   "source": [
    "## LangChain with Simple Chain Pattern\n",
    "This example is setting up a LangChain example that connects to a custom OpenAI-compatible large language model (LLM) endpoint using credentials from the environment, then prompts it to suggest a provide a 5 lines of overview of \"VMware Tanzu Hub\"\n"
   ]
  },
  {
   "cell_type": "code",
   "execution_count": 11,
   "id": "cef345bb-cda6-42e6-b77e-212f1256c39b",
   "metadata": {},
   "outputs": [],
   "source": [
    "import sys, os\n",
    "import requests\n",
    "import json\n",
    "import httpx\n",
    "import warnings\n",
    "from langchain.prompts import ChatPromptTemplate\n",
    "from langchain.chains import LLMChain\n",
    "from langchain_openai import ChatOpenAI\n",
    "from cfenv import AppEnv\n",
    "from tanzu_utils import CFGenAIService\n",
    "warnings.filterwarnings('ignore')"
   ]
  },
  {
   "cell_type": "code",
   "execution_count": 12,
   "id": "f5a4482e-1d23-4302-b8c3-c8cdaf5af26a",
   "metadata": {},
   "outputs": [
    {
     "name": "stdout",
     "output_type": "stream",
     "text": [
      "- openai/gpt-oss-120b (capabilities: CHAT, TOOLS)\n"
     ]
    }
   ],
   "source": [
    "# Load CF environment\n",
    "env = AppEnv()\n",
    "\n",
    "# load your service details replace name with your Gen AI service.  Gen AI service is bound to the app\n",
    "chat_service = CFGenAIService(\"tanzu-gpt-oss-120b\")\n",
    "\n",
    "# List available models\n",
    "models = chat_service.list_models()\n",
    "for m in models:\n",
    "    print(f\"- {m['name']} (capabilities: {', '.join(m['capabilities'])})\")\n",
    "\n",
    "# construct chat_credentials\n",
    "chat_credentials = {\n",
    "    \"api_base\": chat_service.api_base + \"/openai/v1\",\n",
    "    \"api_key\": chat_service.api_key,\n",
    "    \"model_name\": models[0][\"name\"]\n",
    "}"
   ]
  },
  {
   "cell_type": "code",
   "execution_count": 13,
   "id": "2821d406-4cc7-49e3-9eae-eac3d77fa7fa",
   "metadata": {},
   "outputs": [],
   "source": [
    "# 2. HTTP client (optional but recommended for custom config)\n",
    "httpx_client = httpx.Client(verify=False)  # verify=False if your endpoint needs --insecure\n",
    "\n",
    "# 3. Initialize the LLM\n",
    "llm = ChatOpenAI(\n",
    "    temperature=0.9,\n",
    "    model=chat_credentials[\"model_name\"],   # model name from CF service\n",
    "    base_url=chat_credentials[\"api_base\"],  # OpenAI-compatible endpoint\n",
    "    api_key=chat_credentials[\"api_key\"],    # Bearer token\n",
    "    http_client=httpx_client\n",
    ")"
   ]
  },
  {
   "cell_type": "code",
   "execution_count": 15,
   "id": "bee70dce-b827-454e-a1b5-1fdbeeacd321",
   "metadata": {},
   "outputs": [
    {
     "name": "stdout",
     "output_type": "stream",
     "text": [
      "- **Purpose:** Tanzu Hub serves as a unified control plane that streamlines the provisioning, governance, and lifecycle management of Kubernetes clusters and modern applications across multiple clouds.  \n",
      "- **Key Capabilities:** Centralized cluster registration, policy‑driven security, automated software supply‑chain (SBOM, signing), and unified observability/monitoring for all Tanzu workloads.  \n",
      "- **Core Components:** Tanzu Mission Control (cluster management), Tanzu Build Service (image creation), Tanzu Service Mesh (networking), and Tanzu Observability (metrics & logs) are all orchestrated through the Hub’s API‑first console.  \n",
      "- **Ecosystem Integration:** The Hub connects seamlessly with Tanzu Application Platform, Tanzu Kubernetes Grid, and VMware Cloud Foundation, enabling consistent experience from development to operations.  \n",
      "- **Value:** By providing a single pane of glass, Tanzu Hub reduces operational complexity, enforces compliance at scale, and accelerates delivery of cloud‑native applications across hybrid environments.\n"
     ]
    }
   ],
   "source": [
    "# Create a prompt template\n",
    "prompt = ChatPromptTemplate.from_template(\n",
    "    \"\"\"Provide a concise 5-line overview of {topic}.\n",
    "    Focus on its purpose, key capabilities, core components,\n",
    "    and how it integrates within the VMware Tanzu ecosystem.\n",
    "    Write in a clear, professional tone suitable for a technical summary.\"\"\"\n",
    ")\n",
    "# Create the chain\n",
    "chain = LLMChain(llm=llm, prompt=prompt)\n",
    "\n",
    "# Define the topic\n",
    "topic = \"VMware Tanzu Hub\"\n",
    "\n",
    "# Run the chain\n",
    "response = chain.run(topic)\n",
    "print(response)"
   ]
  },
  {
   "cell_type": "code",
   "execution_count": null,
   "id": "b55a064b-7f46-4a26-a128-ab7f79c895ea",
   "metadata": {},
   "outputs": [],
   "source": []
  }
 ],
 "metadata": {
  "kernelspec": {
   "display_name": "Python 3 (ipykernel)",
   "language": "python",
   "name": "python3"
  },
  "language_info": {
   "codemirror_mode": {
    "name": "ipython",
    "version": 3
   },
   "file_extension": ".py",
   "mimetype": "text/x-python",
   "name": "python",
   "nbconvert_exporter": "python",
   "pygments_lexer": "ipython3",
   "version": "3.13.6"
  }
 },
 "nbformat": 4,
 "nbformat_minor": 5
}
