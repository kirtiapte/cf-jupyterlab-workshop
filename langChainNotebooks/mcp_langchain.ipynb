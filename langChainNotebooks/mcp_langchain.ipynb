{
 "cells": [
  {
   "cell_type": "code",
   "execution_count": 1,
   "id": "69d34221-af7c-41d7-aa0c-3f180efa633e",
   "metadata": {},
   "outputs": [
    {
     "name": "stdout",
     "output_type": "stream",
     "text": [
      "/home/vcap/app/cf-jupyterlab-workshop\n"
     ]
    }
   ],
   "source": [
    "# set the working directory for the project\n",
    "%cd /home/vcap/app/cf-jupyterlab-workshop"
   ]
  },
  {
   "cell_type": "code",
   "execution_count": 2,
   "id": "62c2d2e7-d546-4541-88c2-7ce8f3bb360e",
   "metadata": {},
   "outputs": [
    {
     "ename": "ModuleNotFoundError",
     "evalue": "No module named 'langchain_core.memory'",
     "output_type": "error",
     "traceback": [
      "\u001b[31m---------------------------------------------------------------------------\u001b[39m",
      "\u001b[31mModuleNotFoundError\u001b[39m                       Traceback (most recent call last)",
      "\u001b[36mCell\u001b[39m\u001b[36m \u001b[39m\u001b[32mIn[2]\u001b[39m\u001b[32m, line 7\u001b[39m\n\u001b[32m      5\u001b[39m \u001b[38;5;28;01mfrom\u001b[39;00m\u001b[38;5;250m \u001b[39m\u001b[34;01mopenai\u001b[39;00m\u001b[38;5;250m \u001b[39m\u001b[38;5;28;01mimport\u001b[39;00m OpenAI\n\u001b[32m      6\u001b[39m \u001b[38;5;28;01mimport\u001b[39;00m\u001b[38;5;250m \u001b[39m\u001b[34;01mhttpx\u001b[39;00m\n\u001b[32m----> \u001b[39m\u001b[32m7\u001b[39m \u001b[38;5;28;01mfrom\u001b[39;00m\u001b[38;5;250m \u001b[39m\u001b[34;01mlangchain\u001b[39;00m\u001b[34;01m.\u001b[39;00m\u001b[34;01mchains\u001b[39;00m\u001b[38;5;250m \u001b[39m\u001b[38;5;28;01mimport\u001b[39;00m LLMChain\n\u001b[32m      8\u001b[39m \u001b[38;5;28;01mfrom\u001b[39;00m\u001b[38;5;250m \u001b[39m\u001b[34;01mlangchain_openai\u001b[39;00m\u001b[38;5;250m \u001b[39m\u001b[38;5;28;01mimport\u001b[39;00m ChatOpenAI\n\u001b[32m      9\u001b[39m \u001b[38;5;28;01mfrom\u001b[39;00m\u001b[38;5;250m \u001b[39m\u001b[34;01mlangchain\u001b[39;00m\u001b[34;01m.\u001b[39;00m\u001b[34;01magents\u001b[39;00m\u001b[38;5;250m \u001b[39m\u001b[38;5;28;01mimport\u001b[39;00m tool\n",
      "\u001b[36mFile \u001b[39m\u001b[32m~/.venv/lib/python3.13/site-packages/langchain/chains/__init__.py:93\u001b[39m, in \u001b[36m__getattr__\u001b[39m\u001b[34m(name)\u001b[39m\n\u001b[32m     92\u001b[39m \u001b[38;5;28;01mdef\u001b[39;00m\u001b[38;5;250m \u001b[39m\u001b[34m__getattr__\u001b[39m(name: \u001b[38;5;28mstr\u001b[39m) -> Any:\n\u001b[32m---> \u001b[39m\u001b[32m93\u001b[39m     \u001b[38;5;28;01mreturn\u001b[39;00m \u001b[43mimporter\u001b[49m\u001b[43m(\u001b[49m\u001b[43mname\u001b[49m\u001b[43m)\u001b[49m\n",
      "\u001b[36mFile \u001b[39m\u001b[32m~/.venv/lib/python3.13/site-packages/langchain/_api/module_import.py:70\u001b[39m, in \u001b[36mcreate_importer.<locals>.import_by_name\u001b[39m\u001b[34m(name)\u001b[39m\n\u001b[32m     67\u001b[39m     \u001b[38;5;28;01mraise\u001b[39;00m \u001b[38;5;167;01mAssertionError\u001b[39;00m(msg)\n\u001b[32m     69\u001b[39m \u001b[38;5;28;01mtry\u001b[39;00m:\n\u001b[32m---> \u001b[39m\u001b[32m70\u001b[39m     module = \u001b[43mimportlib\u001b[49m\u001b[43m.\u001b[49m\u001b[43mimport_module\u001b[49m\u001b[43m(\u001b[49m\u001b[43mnew_module\u001b[49m\u001b[43m)\u001b[49m\n\u001b[32m     71\u001b[39m \u001b[38;5;28;01mexcept\u001b[39;00m \u001b[38;5;167;01mModuleNotFoundError\u001b[39;00m \u001b[38;5;28;01mas\u001b[39;00m e:\n\u001b[32m     72\u001b[39m     \u001b[38;5;28;01mif\u001b[39;00m new_module.startswith(\u001b[33m\"\u001b[39m\u001b[33mlangchain_community\u001b[39m\u001b[33m\"\u001b[39m):\n",
      "\u001b[36mFile \u001b[39m\u001b[32m~/.local/share/uv/python/cpython-3.13.6-linux-x86_64-gnu/lib/python3.13/importlib/__init__.py:88\u001b[39m, in \u001b[36mimport_module\u001b[39m\u001b[34m(name, package)\u001b[39m\n\u001b[32m     86\u001b[39m             \u001b[38;5;28;01mbreak\u001b[39;00m\n\u001b[32m     87\u001b[39m         level += \u001b[32m1\u001b[39m\n\u001b[32m---> \u001b[39m\u001b[32m88\u001b[39m \u001b[38;5;28;01mreturn\u001b[39;00m \u001b[43m_bootstrap\u001b[49m\u001b[43m.\u001b[49m\u001b[43m_gcd_import\u001b[49m\u001b[43m(\u001b[49m\u001b[43mname\u001b[49m\u001b[43m[\u001b[49m\u001b[43mlevel\u001b[49m\u001b[43m:\u001b[49m\u001b[43m]\u001b[49m\u001b[43m,\u001b[49m\u001b[43m \u001b[49m\u001b[43mpackage\u001b[49m\u001b[43m,\u001b[49m\u001b[43m \u001b[49m\u001b[43mlevel\u001b[49m\u001b[43m)\u001b[49m\n",
      "\u001b[36mFile \u001b[39m\u001b[32m~/.venv/lib/python3.13/site-packages/langchain/chains/llm.py:36\u001b[39m\n\u001b[32m     33\u001b[39m \u001b[38;5;28;01mfrom\u001b[39;00m\u001b[38;5;250m \u001b[39m\u001b[34;01mlangchain_core\u001b[39;00m\u001b[34;01m.\u001b[39;00m\u001b[34;01mutils\u001b[39;00m\u001b[34;01m.\u001b[39;00m\u001b[34;01minput\u001b[39;00m\u001b[38;5;250m \u001b[39m\u001b[38;5;28;01mimport\u001b[39;00m get_colored_text\n\u001b[32m     34\u001b[39m \u001b[38;5;28;01mfrom\u001b[39;00m\u001b[38;5;250m \u001b[39m\u001b[34;01mpydantic\u001b[39;00m\u001b[38;5;250m \u001b[39m\u001b[38;5;28;01mimport\u001b[39;00m ConfigDict, Field\n\u001b[32m---> \u001b[39m\u001b[32m36\u001b[39m \u001b[38;5;28;01mfrom\u001b[39;00m\u001b[38;5;250m \u001b[39m\u001b[34;01mlangchain\u001b[39;00m\u001b[34;01m.\u001b[39;00m\u001b[34;01mchains\u001b[39;00m\u001b[34;01m.\u001b[39;00m\u001b[34;01mbase\u001b[39;00m\u001b[38;5;250m \u001b[39m\u001b[38;5;28;01mimport\u001b[39;00m Chain\n\u001b[32m     39\u001b[39m \u001b[38;5;129m@deprecated\u001b[39m(\n\u001b[32m     40\u001b[39m     since=\u001b[33m\"\u001b[39m\u001b[33m0.1.17\u001b[39m\u001b[33m\"\u001b[39m,\n\u001b[32m     41\u001b[39m     alternative=\u001b[33m\"\u001b[39m\u001b[33mRunnableSequence, e.g., `prompt | llm`\u001b[39m\u001b[33m\"\u001b[39m,\n\u001b[32m     42\u001b[39m     removal=\u001b[33m\"\u001b[39m\u001b[33m1.0\u001b[39m\u001b[33m\"\u001b[39m,\n\u001b[32m     43\u001b[39m )\n\u001b[32m     44\u001b[39m \u001b[38;5;28;01mclass\u001b[39;00m\u001b[38;5;250m \u001b[39m\u001b[34;01mLLMChain\u001b[39;00m(Chain):\n\u001b[32m     45\u001b[39m \u001b[38;5;250m    \u001b[39m\u001b[33;03m\"\"\"Chain to run queries against LLMs.\u001b[39;00m\n\u001b[32m     46\u001b[39m \n\u001b[32m     47\u001b[39m \u001b[33;03m    This class is deprecated. See below for an example implementation using\u001b[39;00m\n\u001b[32m   (...)\u001b[39m\u001b[32m     75\u001b[39m \u001b[33;03m            llm = LLMChain(llm=OpenAI(), prompt=prompt)\u001b[39;00m\n\u001b[32m     76\u001b[39m \u001b[33;03m    \"\"\"\u001b[39;00m\n",
      "\u001b[36mFile \u001b[39m\u001b[32m~/.venv/lib/python3.13/site-packages/langchain/chains/base.py:23\u001b[39m\n\u001b[32m     14\u001b[39m \u001b[38;5;28;01mfrom\u001b[39;00m\u001b[38;5;250m \u001b[39m\u001b[34;01mlangchain_core\u001b[39;00m\u001b[34;01m.\u001b[39;00m\u001b[34;01m_api\u001b[39;00m\u001b[38;5;250m \u001b[39m\u001b[38;5;28;01mimport\u001b[39;00m deprecated\n\u001b[32m     15\u001b[39m \u001b[38;5;28;01mfrom\u001b[39;00m\u001b[38;5;250m \u001b[39m\u001b[34;01mlangchain_core\u001b[39;00m\u001b[34;01m.\u001b[39;00m\u001b[34;01mcallbacks\u001b[39;00m\u001b[38;5;250m \u001b[39m\u001b[38;5;28;01mimport\u001b[39;00m (\n\u001b[32m     16\u001b[39m     AsyncCallbackManager,\n\u001b[32m     17\u001b[39m     AsyncCallbackManagerForChainRun,\n\u001b[32m   (...)\u001b[39m\u001b[32m     21\u001b[39m     Callbacks,\n\u001b[32m     22\u001b[39m )\n\u001b[32m---> \u001b[39m\u001b[32m23\u001b[39m \u001b[38;5;28;01mfrom\u001b[39;00m\u001b[38;5;250m \u001b[39m\u001b[34;01mlangchain_core\u001b[39;00m\u001b[34;01m.\u001b[39;00m\u001b[34;01mmemory\u001b[39;00m\u001b[38;5;250m \u001b[39m\u001b[38;5;28;01mimport\u001b[39;00m BaseMemory\n\u001b[32m     24\u001b[39m \u001b[38;5;28;01mfrom\u001b[39;00m\u001b[38;5;250m \u001b[39m\u001b[34;01mlangchain_core\u001b[39;00m\u001b[34;01m.\u001b[39;00m\u001b[34;01moutputs\u001b[39;00m\u001b[38;5;250m \u001b[39m\u001b[38;5;28;01mimport\u001b[39;00m RunInfo\n\u001b[32m     25\u001b[39m \u001b[38;5;28;01mfrom\u001b[39;00m\u001b[38;5;250m \u001b[39m\u001b[34;01mlangchain_core\u001b[39;00m\u001b[34;01m.\u001b[39;00m\u001b[34;01mrunnables\u001b[39;00m\u001b[38;5;250m \u001b[39m\u001b[38;5;28;01mimport\u001b[39;00m (\n\u001b[32m     26\u001b[39m     RunnableConfig,\n\u001b[32m     27\u001b[39m     RunnableSerializable,\n\u001b[32m     28\u001b[39m     ensure_config,\n\u001b[32m     29\u001b[39m     run_in_executor,\n\u001b[32m     30\u001b[39m )\n",
      "\u001b[31mModuleNotFoundError\u001b[39m: No module named 'langchain_core.memory'"
     ]
    }
   ],
   "source": [
    "#uv add langgraph.prebuilt langgraph\n",
    "import os\n",
    "import requests\n",
    "import json\n",
    "from openai import OpenAI\n",
    "import httpx\n",
    "from langchain.chains import LLMChain\n",
    "from langchain_openai import ChatOpenAI\n",
    "from langchain.agents import tool\n",
    "from langchain.agents import initialize_agent, AgentType, load_tools\n",
    "from langchain.tools import tool\n",
    "from datetime import date\n",
    "import asyncio\n",
    "from langchain_mcp_adapters.client import MultiServerMCPClient\n",
    "from langgraph.prebuilt import create_react_agent\n",
    "import nest_asyncio\n",
    "import ssl\n",
    "from cfenv import AppEnv\n",
    "import sys, os\n",
    "from tanzu_utils import CFGenAIService"
   ]
  },
  {
   "cell_type": "code",
   "execution_count": 5,
   "id": "3bce8c93-70c3-4f41-9ea3-9ccf33838441",
   "metadata": {},
   "outputs": [],
   "source": [
    "# Set environment variables to disable SSL verification\n",
    "os.environ['PYTHONHTTPSVERIFY'] = '0'\n",
    "os.environ['CURL_CA_BUNDLE'] = ''\n",
    "\n",
    "# Create a custom SSL context that doesn't verify certificates\n",
    "ssl_context = ssl.create_default_context()\n",
    "ssl_context.check_hostname = False\n",
    "ssl_context.verify_mode = ssl.CERT_NONE\n",
    "\n",
    "# Override the default SSL context\n",
    "ssl._create_default_https_context = lambda: ssl_context"
   ]
  },
  {
   "cell_type": "code",
   "execution_count": 6,
   "id": "09b21983-0768-4970-a94a-86a90082dda1",
   "metadata": {},
   "outputs": [
    {
     "name": "stdout",
     "output_type": "stream",
     "text": [
      "API Base: https://genai-proxy.sys.tas-ndc.kuhn-labs.com/tanzu-gpt-oss-120b-b83126a/openai\n",
      "Config URL: https://genai-proxy.sys.tas-ndc.kuhn-labs.com/tanzu-gpt-oss-120b-b83126a/config/v1/endpoint\n",
      "- gpt-oss:120b (capabilities: CHAT, TOOLS)\n"
     ]
    },
    {
     "name": "stderr",
     "output_type": "stream",
     "text": [
      "/home/vcap/app/.venv/lib/python3.13/site-packages/urllib3/connectionpool.py:1097: InsecureRequestWarning: Unverified HTTPS request is being made to host 'genai-proxy.sys.tas-ndc.kuhn-labs.com'. Adding certificate verification is strongly advised. See: https://urllib3.readthedocs.io/en/latest/advanced-usage.html#tls-warnings\n",
      "  warnings.warn(\n"
     ]
    }
   ],
   "source": [
    "nest_asyncio.apply()\n",
    "# Load CF environment\n",
    "env = AppEnv()\n",
    "\n",
    "# load your service details replace name with your Gen AI service.  Gen AI service is bound to the app\n",
    "genai = CFGenAIService(\"gpt-oss:120b\")\n",
    "print(\"API Base:\", genai.api_base)\n",
    "print(\"Config URL:\", genai.config_url)\n",
    "\n",
    "# List available models\n",
    "models = genai.list_models()\n",
    "for m in models:\n",
    "    print(f\"- {m['name']} (capabilities: {', '.join(m['capabilities'])})\")\n",
    "\n",
    "# construct chat_credentials\n",
    "chat_credentials = {\n",
    "    \"api_base\": genai.api_base,\n",
    "    \"api_key\": genai.api_key,\n",
    "    \"model_name\": models[0][\"name\"]\n",
    "}\n",
    "\n",
    "# 2. HTTP client (optional but recommended for custom config)\n",
    "httpx_client = httpx.Client(verify=False)  # verify=False if your endpoint needs --insecure\n",
    "\n",
    "# 3. Initialize the LLM\n",
    "llm = ChatOpenAI(\n",
    "    temperature=0.9,\n",
    "    model=chat_credentials[\"model_name\"],   # model name from CF service\n",
    "    base_url=chat_credentials[\"api_base\"],  # OpenAI-compatible endpoint\n",
    "    api_key=chat_credentials[\"api_key\"],    # Bearer token\n",
    "    http_client=httpx_client\n",
    ")"
   ]
  },
  {
   "cell_type": "code",
   "execution_count": 7,
   "id": "1dd5bddc-8788-4be4-bbc1-8b2c6e6d4d35",
   "metadata": {},
   "outputs": [
    {
     "name": "stdout",
     "output_type": "stream",
     "text": [
      "https://time-mcp-server.apps.tas-ndc.kuhn-labs.com\n",
      "MCP Tools: [StructuredTool(name='getCurrentTime', description='Get the current time', args_schema={'type': 'object', 'properties': {}, 'required': [], 'additionalProperties': False}, response_format='content_and_artifact', coroutine=<function convert_mcp_tool_to_langchain_tool.<locals>.call_tool at 0x7f99cd9f6c00>), StructuredTool(name='fetch_petsByStatus', description='Retrieve pets from petstore api', args_schema={'properties': {'status': {'title': 'Status', 'type': 'string'}}, 'required': ['status'], 'title': 'fetch_petsByStatusArguments', 'type': 'object'}, response_format='content_and_artifact', coroutine=<function convert_mcp_tool_to_langchain_tool.<locals>.call_tool at 0x7f99cd9f7100>)]\n"
     ]
    }
   ],
   "source": [
    "# --- Time MCP service ---\n",
    "time_mcp_service = env.get_service(name=\"time-mcp-server\")\n",
    "time_mcp_credentials = time_mcp_service.credentials\n",
    "print(time_mcp_credentials[\"mcpServiceURL\"])\n",
    "\n",
    "time_mcp = time_mcp_credentials[\"mcpServiceURL\"] + \"/sse\"\n",
    "\n",
    "# --- Petclinic MCP service ---\n",
    "petclinic_mcp_service = env.get_service(name=\"petclinic-mcp-server\")\n",
    "petclinic_mcp_credentials = petclinic_mcp_service.credentials\n",
    "\n",
    "\n",
    "petclinic_mcp = petclinic_mcp_credentials[\"mcpServiceURL\"] + \"/sse\"\n",
    "\n",
    "# Async HTTP client for MCP\n",
    "#async_client = httpx.AsyncClient(http2=True, verify=False, timeout=10.0)\n",
    "# Patch httpx globally for MCP client\n",
    "original_async_client = httpx.AsyncClient\n",
    "\n",
    "class NoSSLAsyncClient(httpx.AsyncClient):\n",
    "    def __init__(self, **kwargs):\n",
    "         kwargs['verify'] = False\n",
    "         super().__init__(**kwargs)\n",
    "\n",
    "httpx.AsyncClient = NoSSLAsyncClient\n",
    "\n",
    "# Create MCP client\n",
    "client = MultiServerMCPClient(\n",
    "    {\n",
    "        \"time\": {\n",
    "            \"transport\": \"sse\",\n",
    "            \"url\": time_mcp\n",
    "        },\n",
    "        \"petclinic\": {\n",
    "            \"transport\": \"sse\",\n",
    "            \"url\": petclinic_mcp\n",
    "        }\n",
    "    }\n",
    ")\n",
    "#Fetch and print tools\n",
    "tools = await client.get_tools()\n",
    "print(\"MCP Tools:\", tools)\n"
   ]
  },
  {
   "cell_type": "code",
   "execution_count": 9,
   "id": "1231ee65-6d5b-478d-8019-eaae50160706",
   "metadata": {},
   "outputs": [
    {
     "name": "stdout",
     "output_type": "stream",
     "text": [
      "Time tool result: [2025,9,19,18,9,42,187770903]\n",
      "Pet tool result: ['{\\n  \"id\": 7,\\n  \"category\": {\\n    \"id\": 4,\\n    \"name\": \"Lions\"\\n  },\\n  \"name\": \"Lion 1\",\\n  \"photoUrls\": [\\n    \"url1\",\\n    \"url2\"\\n  ],\\n  \"tags\": [\\n    {\\n      \"id\": 1,\\n      \"name\": \"tag1\"\\n    },\\n    {\\n      \"id\": 2,\\n      \"name\": \"tag2\"\\n    }\\n  ],\\n  \"status\": \"available\"\\n}', '{\\n  \"id\": 8,\\n  \"category\": {\\n    \"id\": 4,\\n    \"name\": \"Lions\"\\n  },\\n  \"name\": \"Lion 2\",\\n  \"photoUrls\": [\\n    \"url1\",\\n    \"url2\"\\n  ],\\n  \"tags\": [\\n    {\\n      \"id\": 1,\\n      \"name\": \"tag2\"\\n    },\\n    {\\n      \"id\": 2,\\n      \"name\": \"tag3\"\\n    }\\n  ],\\n  \"status\": \"available\"\\n}', '{\\n  \"id\": 234901432,\\n  \"name\": \"Shiro\",\\n  \"photoUrls\": [\\n    \"anyTestURLString\"\\n  ],\\n  \"tags\": [],\\n  \"status\": \"available\"\\n}', '{\\n  \"id\": 321,\\n  \"category\": {\\n    \"id\": 1,\\n    \"name\": \"Dogs\"\\n  },\\n  \"name\": \"TestPet\",\\n  \"photoUrls\": [\\n    \"https://example.com/photo1.jpg\"\\n  ],\\n  \"tags\": [\\n    {\\n      \"id\": 1,\\n      \"name\": \"friendly\"\\n    }\\n  ],\\n  \"status\": \"available\"\\n}', '{\\n  \"id\": 7041,\\n  \"category\": {\\n    \"id\": 1,\\n    \"name\": \"Dogs\"\\n  },\\n  \"name\": \"doggie\",\\n  \"photoUrls\": [\\n    \"string\"\\n  ],\\n  \"tags\": [\\n    {\\n      \"id\": 0,\\n      \"name\": \"string\"\\n    }\\n  ],\\n  \"status\": \"available\"\\n}', '{\\n  \"id\": 8385564909879458212,\\n  \"category\": {\\n    \"id\": 8067684869806915709,\\n    \"name\": \"tj?q)cNK5$*TgNaw+1.G-}qRvXDtFn+&qFdcP0OLW!Ja*dR\"\\n  },\\n  \"name\": \"%*|Eu0SRgYZh^ao-cZ!`}\",\\n  \"photoUrls\": [],\\n  \"tags\": [\\n    {\\n      \"id\": 4700005337689125517,\\n      \"name\": \"2gX7\"\\n    },\\n    {\\n      \"id\": 4073882860998758127,\\n      \"name\": \"~by:EfL_z!H:4%7=`y3-81#%z`#oa(99^bPN8:%hv^!&{B~S.tN)l))G;Y_\"\\n    },\\n    {\\n      \"id\": 5642001320787962369,\\n      \"name\": \"oh0-\"\\n    },\\n    {\\n      \"id\": 1362683169843050475,\\n      \"name\": \";5qX,hal6i&p`,&g,cM/{8vnq$vOEYJ+eLEzk!Qow9,e,OhmN\"\\n    },\\n    {\\n      \"id\": 4512944305494763672,\\n      \"name\": \"X>`M\\'vU<ojY,,mruEndUl\\'nkWY?ys^CZG+Ts&nOoYM_,g6LG9i2NePWyM6E92R\"\\n    },\\n    {\\n      \"id\": 2685333744128473455,\\n      \"name\": \"t7EOr(KHxKwBVY2&b+0g-;^9E8|YQ|OZV-MEGR>#o.r<W=gTz1Lq,2=1Q8n\"\\n    },\\n    {\\n      \"id\": 2480052793346374198,\\n      \"name\": \"<b#{T\"\\n    }\\n  ],\\n  \"status\": \"available\"\\n}', '{\\n  \"id\": 1233726814553367647,\\n  \"category\": {\\n    \"id\": 8067684869806915709,\\n    \"name\": \"tj?q)cNK5$*TgNaw+1.G-}qRvXDtFn+&qFdcP0OLW!Ja*dR\"\\n  },\\n  \"name\": \"%*|Eu0SRgYZh^ao-cZ!`}\",\\n  \"photoUrls\": [],\\n  \"tags\": [\\n    {\\n      \"id\": 4700005337689125517,\\n      \"name\": \"2gX7\"\\n    },\\n    {\\n      \"id\": 4073882860998758127,\\n      \"name\": \"~by:EfL_z!H:4%7=`y3-81#%z`#oa(99^bPN8:%hv^!&{B~S.tN)l))G;Y_\"\\n    },\\n    {\\n      \"id\": 5642001320787962369,\\n      \"name\": \"oh0-\"\\n    },\\n    {\\n      \"id\": 1362683169843050475,\\n      \"name\": \";5qX,hal6i&p`,&g,cM/{8vnq$vOEYJ+eLEzk!Qow9,e,OhmN\"\\n    },\\n    {\\n      \"id\": 4512944305494763672,\\n      \"name\": \"X>`M\\'vU<ojY,,mruEndUl\\'nkWY?ys^CZG+Ts&nOoYM_,g6LG9i2NePWyM6E92R\"\\n    },\\n    {\\n      \"id\": 2685333744128473455,\\n      \"name\": \"t7EOr(KHxKwBVY2&b+0g-;^9E8|YQ|OZV-MEGR>#o.r<W=gTz1Lq,2=1Q8n\"\\n    },\\n    {\\n      \"id\": 2480052793346374198,\\n      \"name\": \"<b#{T\"\\n    }\\n  ],\\n  \"status\": \"available\"\\n}', '{\\n  \"id\": 266008,\\n  \"category\": {\\n    \"id\": 1,\\n    \"name\": \"dogs\"\\n  },\\n  \"name\": \"doggie-e5b37c5e-b65a-418c-9751-cb05c2e795d1\",\\n  \"photoUrls\": [\\n    \"https://example.com/a.jpg\"\\n  ],\\n  \"tags\": [\\n    {\\n      \"id\": 1,\\n      \"name\": \"tag1\"\\n    }\\n  ],\\n  \"status\": \"available\"\\n}', '{\\n  \"id\": 1631104653577512460,\\n  \"category\": {\\n    \"id\": 7272540183564960514,\\n    \"name\": \"Ri`J>[go?cSO]\\'cNNpWhM6Q;/A$*Aa3oGJ8q;Tct~Azl]7,N*Tb?ak7f:h/IdK?W\"\\n  },\\n  \"name\": \".K/Bv.;yy+r6i/Os2`izqzH.c*_B7}q&G7)U$isu;,DGW+:88\",\\n  \"photoUrls\": [\\n    \"WAm2&/b[{\\'-nSb`wQwZd<+tL;9Vy)C_q\\'5dfo3--tAu&=jV,]\",\\n    \"$1}`g!\"\\n  ],\\n  \"tags\": [\\n    {\\n      \"id\": 4805672426556228468,\\n      \"name\": \"GO}kPLL_E;>PZ+=u{aK<l5Q#j)+jbq87r_#NR/vKj!Pi[aIzTK_}74yW)rh\"\\n    },\\n    {\\n      \"id\": 7460231848014946597,\\n      \"name\": \"-TX/Kkb*?3E^SRuhB_TozAIlkArXYe/gn{Dau*>%iSUl<KYj{hwd4tXj3VOIj\"\\n    },\\n    {\\n      \"id\": 3522769829760938574,\\n      \"name\": \"Exf`x_z>8_m]~\\'kps#*n?FkI3V,|F6a0f\"\\n    },\\n    {\\n      \"id\": 5584281222376216892,\\n      \"name\": \"\"\\n    },\\n    {\\n      \"id\": 6380862328950971834,\\n      \"name\": \"1}Qu?eqeXBe8~X7CTik/0P~|mY,fq)D}{!U\"\\n    },\\n    {\\n      \"id\": 6472583045666888714,\\n      \"name\": \"d.xQoQU.B:R;GzKI`JzLhU\"\\n    }\\n  ],\\n  \"status\": \"available\"\\n}', '{\\n  \"id\": 561450221182807086,\\n  \"category\": {\\n    \"id\": 7272540183564960514,\\n    \"name\": \"Ri`J>[go?cSO]\\'cNNpWhM6Q;/A$*Aa3oGJ8q;Tct~Azl]7,N*Tb?ak7f:h/IdK?W\"\\n  },\\n  \"name\": \".K/Bv.;yy+r6i/Os2`izqzH.c*_B7}q&G7)U$isu;,DGW+:88\",\\n  \"photoUrls\": [\\n    \"WAm2&/b[{\\'-nSb`wQwZd<+tL;9Vy)C_q\\'5dfo3--tAu&=jV,]\",\\n    \"$1}`g!\"\\n  ],\\n  \"tags\": [\\n    {\\n      \"id\": 4805672426556228468,\\n      \"name\": \"GO}kPLL_E;>PZ+=u{aK<l5Q#j)+jbq87r_#NR/vKj!Pi[aIzTK_}74yW)rh\"\\n    },\\n    {\\n      \"id\": 7460231848014946597,\\n      \"name\": \"-TX/Kkb*?3E^SRuhB_TozAIlkArXYe/gn{Dau*>%iSUl<KYj{hwd4tXj3VOIj\"\\n    },\\n    {\\n      \"id\": 3522769829760938574,\\n      \"name\": \"Exf`x_z>8_m]~\\'kps#*n?FkI3V,|F6a0f\"\\n    },\\n    {\\n      \"id\": 5584281222376216892,\\n      \"name\": \"\"\\n    },\\n    {\\n      \"id\": 6380862328950971834,\\n      \"name\": \"1}Qu?eqeXBe8~X7CTik/0P~|mY,fq)D}{!U\"\\n    },\\n    {\\n      \"id\": 6472583045666888714,\\n      \"name\": \"d.xQoQU.B:R;GzKI`JzLhU\"\\n    }\\n  ],\\n  \"status\": \"available\"\\n}', '{\\n  \"id\": 1839142908238124821,\\n  \"category\": {\\n    \"id\": 7272540183564960514,\\n    \"name\": \"Ri`J>[go?cSO]\\'cNNpWhM6Q;/A$*Aa3oGJ8q;Tct~Azl]7,N*Tb?ak7f:h/IdK?W\"\\n  },\\n  \"name\": \".K/Bv.;yy+r6i/Os2`izqzH.c*_B7}q&G7)U$isu;,DGW+:88\",\\n  \"photoUrls\": [\\n    \"WAm2&/b[{\\'-nSb`wQwZd<+tL;9Vy)C_q\\'5dfo3--tAu&=jV,]\",\\n    \"$1}`g!\"\\n  ],\\n  \"tags\": [\\n    {\\n      \"id\": 4805672426556228468,\\n      \"name\": \"GO}kPLL_E;>PZ+=u{aK<l5Q#j)+jbq87r_#NR/vKj!Pi[aIzTK_}74yW)rh\"\\n    },\\n    {\\n      \"id\": 7460231848014946597,\\n      \"name\": \"-TX/Kkb*?3E^SRuhB_TozAIlkArXYe/gn{Dau*>%iSUl<KYj{hwd4tXj3VOIj\"\\n    },\\n    {\\n      \"id\": 3522769829760938574,\\n      \"name\": \"Exf`x_z>8_m]~\\'kps#*n?FkI3V,|F6a0f\"\\n    },\\n    {\\n      \"id\": 5584281222376216892,\\n      \"name\": \"\"\\n    },\\n    {\\n      \"id\": 6380862328950971834,\\n      \"name\": \"1}Qu?eqeXBe8~X7CTik/0P~|mY,fq)D}{!U\"\\n    },\\n    {\\n      \"id\": 6472583045666888714,\\n      \"name\": \"d.xQoQU.B:R;GzKI`JzLhU\"\\n    }\\n  ],\\n  \"status\": \"available\"\\n}', '{\\n  \"id\": 8059874991890501670,\\n  \"category\": {\\n    \"id\": 7272540183564960514,\\n    \"name\": \"Ri`J>[go?cSO]\\'cNNpWhM6Q;/A$*Aa3oGJ8q;Tct~Azl]7,N*Tb?ak7f:h/IdK?W\"\\n  },\\n  \"name\": \".K/Bv.;yy+r6i/Os2`izqzH.c*_B7}q&G7)U$isu;,DGW+:88\",\\n  \"photoUrls\": [\\n    \"WAm2&/b[{\\'-nSb`wQwZd<+tL;9Vy)C_q\\'5dfo3--tAu&=jV,]\",\\n    \"$1}`g!\"\\n  ],\\n  \"tags\": [\\n    {\\n      \"id\": 4805672426556228468,\\n      \"name\": \"GO}kPLL_E;>PZ+=u{aK<l5Q#j)+jbq87r_#NR/vKj!Pi[aIzTK_}74yW)rh\"\\n    },\\n    {\\n      \"id\": 7460231848014946597,\\n      \"name\": \"-TX/Kkb*?3E^SRuhB_TozAIlkArXYe/gn{Dau*>%iSUl<KYj{hwd4tXj3VOIj\"\\n    },\\n    {\\n      \"id\": 3522769829760938574,\\n      \"name\": \"Exf`x_z>8_m]~\\'kps#*n?FkI3V,|F6a0f\"\\n    },\\n    {\\n      \"id\": 5584281222376216892,\\n      \"name\": \"\"\\n    },\\n    {\\n      \"id\": 6380862328950971834,\\n      \"name\": \"1}Qu?eqeXBe8~X7CTik/0P~|mY,fq)D}{!U\"\\n    },\\n    {\\n      \"id\": 6472583045666888714,\\n      \"name\": \"d.xQoQU.B:R;GzKI`JzLhU\"\\n    }\\n  ],\\n  \"status\": \"available\"\\n}', '{\\n  \"id\": 908274033992378665,\\n  \"category\": {\\n    \"id\": 7272540183564960514,\\n    \"name\": \"k7f:h/IdK?WH&40x7w~-d4rui]i,%grn}0M(,BXoR`2R5[+j563%9qT2%Se]>E/K\"\\n  },\\n  \"name\": \".K/Bv.;yy+r6i/Os2`izqzH.c*_B7}q&G7)U$isu;,DGW+:88\",\\n  \"photoUrls\": [\\n    \"WAm2&/b[{\\'-nSb`wQwZd<+tL;9Vy)C_q\\'5dfo3--tAu&=jV,]\",\\n    \"$1}`g!\"\\n  ],\\n  \"tags\": [\\n    {\\n      \"id\": 4805672426556228468,\\n      \"name\": \"GO}kPLL_E;>PZ+=u{aK<l5Q#j)+jbq87r_#NR/vKj!Pi[aIzTK_}74yW)rh\"\\n    },\\n    {\\n      \"id\": 7460231848014946597,\\n      \"name\": \"-TX/Kkb*?3E^SRuhB_TozAIlkArXYe/gn{Dau*>%iSUl<KYj{hwd4tXj3VOIj\"\\n    },\\n    {\\n      \"id\": 3522769829760938574,\\n      \"name\": \"Exf`x_z>8_m]~\\'kps#*n?FkI3V,|F6a0f\"\\n    },\\n    {\\n      \"id\": 5584281222376216892,\\n      \"name\": \"\"\\n    },\\n    {\\n      \"id\": 6380862328950971834,\\n      \"name\": \"1}Qu?eqeXBe8~X7CTik/0P~|mY,fq)D}{!U\"\\n    },\\n    {\\n      \"id\": 6472583045666888714,\\n      \"name\": \"d.xQoQU.B:R;GzKI`JzLhU\"\\n    }\\n  ],\\n  \"status\": \"available\"\\n}', '{\\n  \"id\": 269516810310624498,\\n  \"category\": {\\n    \"id\": 7272540183564960514,\\n    \"name\": \"Ri`J>[go?cSO]\\'cNNpWhM6Q;/A$*Aa3oGJ8q;Tct~Azl]7,N*Tb?ak7f:h/IdK?W\"\\n  },\\n  \"name\": \".K/Bv.;yy+r6i/Os2`izqzH.c*_B7}q&G7)U$isu;,DGW+:88\",\\n  \"photoUrls\": [\\n    \"WAm2&/b[{\\'-nSb`wQwZd<+tL;9Vy)C_q\\'5dfo3--tAu&=jV,]\",\\n    \"$1}`g!\"\\n  ],\\n  \"tags\": [\\n    {\\n      \"id\": 4805672426556228468,\\n      \"name\": \"GO}kPLL_E;>PZ+=u{aK<l5Q#j)+jbq87r_#NR/vKj!Pi[aIzTK_}74yW)rh\"\\n    },\\n    {\\n      \"id\": 7460231848014946597,\\n      \"name\": \"-TX/Kkb*?3E^SRuhB_TozAIlkArXYe/gn{Dau*>%iSUl<KYj{hwd4tXj3VOIj\"\\n    },\\n    {\\n      \"id\": 3522769829760938574,\\n      \"name\": \"Exf`x_z>8_m]~\\'kps#*n?FkI3V,|F6a0f\"\\n    },\\n    {\\n      \"id\": 5584281222376216892,\\n      \"name\": \"\"\\n    },\\n    {\\n      \"id\": 6380862328950971834,\\n      \"name\": \"1}Qu?eqeXBe8~X7CTik/0P~|mY,fq)D}{!U\"\\n    },\\n    {\\n      \"id\": 6472583045666888714,\\n      \"name\": \"d.xQoQU.B:R;GzKI`JzLhU\"\\n    }\\n  ],\\n  \"status\": \"available\"\\n}', '{\\n  \"id\": 137,\\n  \"name\": \"virtual panel\",\\n  \"photoUrls\": [\\n    \"https://cdn.fakercloud.com/avatars/mr_subtle_128.jpg\"\\n  ],\\n  \"status\": \"available\"\\n}', '{\\n  \"id\": 353,\\n  \"name\": \"asdasdasdzcxzc\",\\n  \"photoUrls\": [\\n    \"https://cdn-media.sforum.vn/storage/app/media/anh-dep-16.jpg\"\\n  ],\\n  \"tags\": [],\\n  \"status\": \"available\"\\n}', '{\\n  \"id\": 9876543210,\\n  \"category\": {\\n    \"id\": 1,\\n    \"name\": \"Dogs\"\\n  },\\n  \"name\": \"Rex\",\\n  \"photoUrls\": [\\n    \"http://example.com/photo1.jpg\"\\n  ],\\n  \"tags\": [\\n    {\\n      \"id\": 0,\\n      \"name\": \"friendly\"\\n    }\\n  ],\\n  \"status\": \"available\"\\n}', '{\\n  \"id\": 1000,\\n  \"category\": {\\n    \"id\": 1,\\n    \"name\": \"Dogs\"\\n  },\\n  \"name\": \"SnoopDogg\",\\n  \"photoUrls\": [\\n    \"string\"\\n  ],\\n  \"tags\": [\\n    {\\n      \"id\": 0,\\n      \"name\": \"string\"\\n    }\\n  ],\\n  \"status\": \"available\"\\n}', '{\\n  \"id\": 955,\\n  \"name\": \"zczczxczcxzc\",\\n  \"photoUrls\": [\\n    \"https://cdn-media.sforum.vn/storage/app/media/anh-dep-16.jpg\"\\n  ],\\n  \"tags\": [],\\n  \"status\": \"available\"\\n}', '{\\n  \"id\": 999,\\n  \"name\": \"test\",\\n  \"photoUrls\": [],\\n  \"tags\": [],\\n  \"status\": \"available\"\\n}', '{\\n  \"id\": 199,\\n  \"category\": {\\n    \"id\": 1,\\n    \"name\": \"Dogs\"\\n  },\\n  \"name\": \"Пузя\",\\n  \"photoUrls\": [\\n    \"string\"\\n  ],\\n  \"tags\": [\\n    {\\n      \"id\": 0,\\n      \"name\": \"string\"\\n    }\\n  ],\\n  \"status\": \"available\"\\n}', '{\\n  \"id\": 1287138758235,\\n  \"name\": \"Woofy Mc Woof\",\\n  \"photoUrls\": [],\\n  \"tags\": [],\\n  \"status\": \"available\"\\n}', '{\\n  \"id\": 3138679132243419462,\\n  \"category\": {\\n    \"id\": 8067684869806915709,\\n    \"name\": \"tj?q)cNK5$*TgNaw+1.G-}qRvXDtFn+&qFdcP0OLW!Ja*dR\"\\n  },\\n  \"name\": \"%25%2A%7CEu0SRgYZh%5Eao-cZ%21%60%7D\",\\n  \"photoUrls\": [],\\n  \"tags\": [\\n    {\\n      \"id\": 4700005337689125517,\\n      \"name\": \"2gX7\"\\n    },\\n    {\\n      \"id\": 4073882860998758127,\\n      \"name\": \"~by:EfL_z!H:4%7=`y3-81#%z`#oa(99^bPN8:%hv^!&{B~S.tN)l))G;Y_\"\\n    },\\n    {\\n      \"id\": 5642001320787962369,\\n      \"name\": \"oh0-\"\\n    },\\n    {\\n      \"id\": 1362683169843050475,\\n      \"name\": \";5qX,hal6i&p`,&g,cM/{8vnq$vOEYJ+eLEzk!Qow9,e,OhmN\"\\n    },\\n    {\\n      \"id\": 4512944305494763672,\\n      \"name\": \"X>`M\\'vU<ojY,,mruEndUl\\'nkWY?ys^CZG+Ts&nOoYM_,g6LG9i2NePWyM6E92R\"\\n    },\\n    {\\n      \"id\": 2685333744128473455,\\n      \"name\": \"t7EOr(KHxKwBVY2&b+0g-;^9E8|YQ|OZV-MEGR>#o.r<W=gTz1Lq,2=1Q8n\"\\n    },\\n    {\\n      \"id\": 2480052793346374198,\\n      \"name\": \"<b#{T\"\\n    }\\n  ],\\n  \"status\": \"available\"\\n}', '{\\n  \"id\": 11,\\n  \"category\": {\\n    \"id\": 1,\\n    \"name\": \"Dogs\"\\n  },\\n  \"name\": \"Sharik\",\\n  \"photoUrls\": [\\n    \"https://www.pexels.com/photo/short-coated-tan-dog-2253275/\"\\n  ],\\n  \"tags\": [\\n    {\\n      \"id\": 2,\\n      \"name\": \"shock\"\\n    }\\n  ],\\n  \"status\": \"available\"\\n}', '{\\n  \"id\": 12345,\\n  \"name\": \"Fluffy\",\\n  \"photoUrls\": [],\\n  \"tags\": [],\\n  \"status\": \"available\"\\n}', '{\\n  \"id\": 4,\\n  \"category\": {\\n    \"id\": 0,\\n    \"name\": \"lucertola\"\\n  },\\n  \"name\": \"Dog%201\",\\n  \"photoUrls\": [],\\n  \"tags\": [],\\n  \"status\": \"available\"\\n}', '{\\n  \"id\": 9,\\n  \"category\": {\\n    \"id\": 1,\\n    \"name\": \"Dogs\"\\n  },\\n  \"name\": \"doggie\",\\n  \"photoUrls\": [\\n    \"string\"\\n  ],\\n  \"tags\": [\\n    {\\n      \"id\": 0,\\n      \"name\": \"string\"\\n    }\\n  ],\\n  \"status\": \"available\"\\n}', '{\\n  \"id\": 123,\\n  \"category\": {\\n    \"id\": 1,\\n    \"name\": \"Dogs\"\\n  },\\n  \"name\": \"Pyppy1\",\\n  \"photoUrls\": [\\n    \"string\"\\n  ],\\n  \"tags\": [\\n    {\\n      \"id\": 0,\\n      \"name\": \"string\"\\n    }\\n  ],\\n  \"status\": \"available\"\\n}', '{\\n  \"id\": 2,\\n  \"category\": {\\n    \"id\": 0,\\n    \"name\": \"Cats\"\\n  },\\n  \"name\": \"Updated Kitty\",\\n  \"photoUrls\": [\\n    \"string\"\\n  ],\\n  \"tags\": [\\n    {\\n      \"id\": 0,\\n      \"name\": \"string\"\\n    }\\n  ],\\n  \"status\": \"available\"\\n}', '{\\n  \"id\": 2862734145148506202,\\n  \"category\": {\\n    \"id\": 6572883423353392145,\\n    \"name\": \";YrJorIvCsI,qG.=7v1vSOd7Wio.i[-EBe\\'gGCI5\"\\n  },\\n  \"name\": \"pe}3$-YtEs6%Y3}<\",\\n  \"photoUrls\": [\\n    \"n7Z?tGFpxk8p<mJi{L#9%Km1w?zX^_cYi\",\\n    \"_V+/YH|J2dW\\'k&`\\'=0,aBTJ(w::6-|>HJ+rA!dCP6WQ?{gm/w+J\"\\n  ],\\n  \"tags\": [\\n    {\\n      \"id\": 6699048564598973535,\\n      \"name\": \"M>`ou1w6`:=p^:3)-v(.lioF\"\\n    },\\n    {\\n      \"id\": 2349551327731349299,\\n      \"name\": \"v*:nId\"\\n    },\\n    {\\n      \"id\": 3278788853741507803,\\n      \"name\": \"Z>P(418epb3]LfW%_)1me,yV9A\"\\n    },\\n    {\\n      \"id\": 4513552632992649375,\\n      \"name\": \"E{\"\\n    },\\n    {\\n      \"id\": 5403273693464460204,\\n      \"name\": \"0(^41sOYz-{)-p8{2i}{bA;w&e<m]B]S0,pu>$LucJQo\"\\n    },\\n    {\\n      \"id\": 9016219630155616626,\\n      \"name\": \"wr1kPIwwYm{]&<-(#:;\"\\n    },\\n    {\\n      \"id\": 3405211466006628678,\\n      \"name\": \"N6?^T;94L~}cE7CQi\\'*\"\\n    },\\n    {\\n      \"id\": 1395402932117373687,\\n      \"name\": \"\\'/L<H}FCEV=`Z[\"\\n    },\\n    {\\n      \"id\": 6289727397199162179,\\n      \"name\": \"%3#vfijDaecYpZmq0Y_:=M_At]gZGOg_Q4pL?k7%|yjy]4wQJ_U;(6f[Q1yrc\"\\n    }\\n  ],\\n  \"status\": \"available\"\\n}', '{\\n  \"id\": 7321583837042373730,\\n  \"category\": {\\n    \"id\": 4535222743347137654,\\n    \"name\": \">&w.STgoG<eRcDFPHW3GcY++&ng{c0$TneEVC(h\"\\n  },\\n  \"name\": \"fnUDTT:EA(oadB\",\\n  \"photoUrls\": [],\\n  \"tags\": [\\n    {\\n      \"id\": 6148705231109070199,\\n      \"name\": \">:2CE`5<-BgY7f!#5Li~4m}g$KP44\"\\n    },\\n    {\\n      \"id\": 697759738709407288,\\n      \"name\": \"0cZX<g[)^FPOxzERn0Jm(.>|f\"\\n    },\\n    {\\n      \"id\": 5703609363261186271,\\n      \"name\": \"PTpSVlnwRu_re(h6-/Z4G>?9OY\"\\n    }\\n  ],\\n  \"status\": \"available\"\\n}', '{\\n  \"id\": 6946,\\n  \"category\": {\\n    \"id\": 1,\\n    \"name\": \"Cats\"\\n  },\\n  \"name\": \"rapsith\",\\n  \"photoUrls\": [\\n    \"string\",\\n    \"/tmp/inflector8898823779699390484.tmp\"\\n  ],\\n  \"tags\": [\\n    {\\n      \"id\": 0,\\n      \"name\": \"mine\"\\n    }\\n  ],\\n  \"status\": \"available\"\\n}', '{\\n  \"id\": 0,\\n  \"name\": \"doggie\",\\n  \"photoUrls\": [],\\n  \"tags\": [],\\n  \"status\": \"available\"\\n}', '{\\n  \"id\": 198772,\\n  \"category\": {\\n    \"id\": 999,\\n    \"name\": \"Dogs\"\\n  },\\n  \"name\": \"doggie\",\\n  \"photoUrls\": [\\n    \"url1\",\\n    \"url2\"\\n  ],\\n  \"tags\": [\\n    {\\n      \"id\": 1,\\n      \"name\": \"tag1\"\\n    }\\n  ],\\n  \"status\": \"available\"\\n}', '{\\n  \"id\": 130,\\n  \"category\": {\\n    \"id\": 131,\\n    \"name\": \"Boa\"\\n  },\\n  \"name\": \"Kaa\",\\n  \"photoUrls\": [\\n    \"https://commons.wikimedia.org/wiki/File:Boa_constrictor_(2).jpg?uselang=ru\"\\n  ],\\n  \"tags\": [\\n    {\\n      \"id\": 0,\\n      \"name\": \"string\"\\n    }\\n  ],\\n  \"status\": \"available\"\\n}', '{\\n  \"id\": 10,\\n  \"category\": {\\n    \"id\": 1,\\n    \"name\": \"Dogs\"\\n  },\\n  \"name\": \"doggie\",\\n  \"photoUrls\": [\\n    \"\"\\n  ],\\n  \"tags\": [\\n    {\\n      \"id\": 0,\\n      \"name\": \"\"\\n    }\\n  ],\\n  \"status\": \"available\"\\n}', '{\\n  \"id\": 1,\\n  \"name\": \"Pet1\",\\n  \"photoUrls\": [\\n    \"test1\",\\n    \"test2\"\\n  ],\\n  \"tags\": [],\\n  \"status\": \"available\"\\n}']\n"
     ]
    }
   ],
   "source": [
    "# get current time\n",
    "time_tool = [t for t in tools if t.name == \"getCurrentTime\"][0]\n",
    "result = await time_tool.arun({})\n",
    "print(\"Time tool result:\", result)\n",
    "\n",
    "# fetch pets\n",
    "pet_tool = [t for t in tools if t.name == \"fetch_petsByStatus\"][0]\n",
    "result = await pet_tool.arun({\"status\": \"available\"})\n",
    "print(\"Pet tool result:\", result)"
   ]
  },
  {
   "cell_type": "code",
   "execution_count": null,
   "id": "5769f1f8-bcc3-4d84-8aa5-b6256b4689e3",
   "metadata": {},
   "outputs": [],
   "source": []
  }
 ],
 "metadata": {
  "kernelspec": {
   "display_name": "Python 3 (ipykernel)",
   "language": "python",
   "name": "python3"
  },
  "language_info": {
   "codemirror_mode": {
    "name": "ipython",
    "version": 3
   },
   "file_extension": ".py",
   "mimetype": "text/x-python",
   "name": "python",
   "nbconvert_exporter": "python",
   "pygments_lexer": "ipython3",
   "version": "3.13.6"
  }
 },
 "nbformat": 4,
 "nbformat_minor": 5
}
